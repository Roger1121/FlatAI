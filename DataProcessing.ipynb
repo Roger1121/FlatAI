{
 "cells": [
  {
   "cell_type": "markdown",
   "id": "60cc0e38",
   "metadata": {},
   "source": [
    "## Przypisanie miesiąca do poszczególnych ofert na podstawie pliku, z którego pochodzą dane"
   ]
  },
  {
   "cell_type": "code",
   "execution_count": null,
   "id": "65e7cc76",
   "metadata": {},
   "outputs": [],
   "source": [
    "# dodanie miesiąca, w którym dana oferta sprzedaży była dostępna (wszystkie dane pochodzą z roku 2023)\n",
    "data_AUG[\"offerMonth\"] = 8\n",
    "data_SEP[\"offerMonth\"] = 9\n",
    "data_OCT[\"offerMonth\"] = 10"
   ]
  },
  {
   "cell_type": "code",
   "execution_count": null,
   "id": "798ee8a8",
   "metadata": {},
   "outputs": [],
   "source": [
    "data_ALL = pd.concat([data_AUG, data_SEP, data_OCT], ignore_index=True)"
   ]
  },
  {
   "cell_type": "code",
   "execution_count": null,
   "id": "a61d7406",
   "metadata": {},
   "outputs": [],
   "source": [
    "data_ALL.tail()"
   ]
  },
  {
   "cell_type": "code",
   "execution_count": null,
   "id": "61ff00b1",
   "metadata": {},
   "outputs": [],
   "source": [
    "data_ALL.count()"
   ]
  },
  {
   "cell_type": "code",
   "execution_count": null,
   "id": "219238d1",
   "metadata": {},
   "outputs": [],
   "source": [
    "# porównanie duplikatów, z pominięciem dodanej kolumny offerMonth\n",
    "data_ALL.loc[data_ALL.duplicated(data_ALL.columns.delete(data_ALL.columns.get_loc(\"offerMonth\")))]"
   ]
  },
  {
   "cell_type": "code",
   "execution_count": null,
   "id": "941830aa",
   "metadata": {},
   "outputs": [],
   "source": [
    "# w poszczególnych miesiącach nie występują duplikaty tej samej oferty, ponieważ metoda duplicated() \n",
    "# nie znajduje wierszy jeśli uwzględniona zostanie kolumna \"offerMonth\"\n",
    "data_ALL.loc[data_ALL.duplicated()]\n",
    "\n",
    "# TODO: ta komorka moze byc zbedna po analizie danych"
   ]
  },
  {
   "cell_type": "markdown",
   "id": "53208f81",
   "metadata": {},
   "source": [
    "## Usunięcie duplikatów"
   ]
  },
  {
   "cell_type": "code",
   "execution_count": null,
   "id": "4c314eb4",
   "metadata": {},
   "outputs": [],
   "source": [
    "data_FILTERED = data_ALL.drop_duplicates(subset=[\"id\"], keep='last')\n",
    "data_FILTERED"
   ]
  },
  {
   "cell_type": "code",
   "execution_count": null,
   "id": "6a2dac63",
   "metadata": {},
   "outputs": [],
   "source": [
    "data_FILTERED.count()"
   ]
  },
  {
   "cell_type": "code",
   "execution_count": null,
   "id": "14fbc37d",
   "metadata": {},
   "outputs": [],
   "source": [
    "data_FILTERED = data_FILTERED.reset_index(drop=True)"
   ]
  },
  {
   "cell_type": "code",
   "execution_count": null,
   "id": "a147e5b1",
   "metadata": {},
   "outputs": [],
   "source": [
    "data_FILTERED"
   ]
  }
 ],
 "metadata": {
  "kernelspec": {
   "display_name": "Python 3 (ipykernel)",
   "language": "python",
   "name": "python3"
  },
  "language_info": {
   "codemirror_mode": {
    "name": "ipython",
    "version": 3
   },
   "file_extension": ".py",
   "mimetype": "text/x-python",
   "name": "python",
   "nbconvert_exporter": "python",
   "pygments_lexer": "ipython3",
   "version": "3.10.9"
  }
 },
 "nbformat": 4,
 "nbformat_minor": 5
}
