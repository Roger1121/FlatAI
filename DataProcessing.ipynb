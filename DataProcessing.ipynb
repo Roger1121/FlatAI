{
 "cells": [
  {
   "cell_type": "markdown",
   "id": "98175296",
   "metadata": {},
   "source": [
    "Skład grupy:\n",
    "    Paweł Awramiuk\n",
    "    Anna Chojnowska\n",
    "    Piotr Grusza\n",
    "    Szymon Leszczyński"
   ]
  },
  {
   "cell_type": "code",
   "execution_count": 1,
   "id": "6e0ac12f",
   "metadata": {},
   "outputs": [],
   "source": [
    "## Polecenia do instalacji pakietów\n",
    "# conda install -c conda-forge tensorflow\n",
    "import tensorflow as tf\n",
    "import pandas as pd\n",
    "import numpy as np\n",
    "import matplotlib.pyplot as plt\n",
    "import seaborn as sns\n",
    "\n",
    "## Konfiguracje globalne\n",
    "# Formatowanie liczb w DataFrame\n",
    "pd.set_option('display.precision', 2)\n",
    "pd.set_option('display.float_format', '{:.2f}'.format)"
   ]
  },
  {
   "cell_type": "code",
   "execution_count": 29,
   "id": "c9a37708",
   "metadata": {},
   "outputs": [],
   "source": [
    "data_AUG = pd.read_csv(\"apartments_pl_2023_08.csv\")\n",
    "data_SEP = pd.read_csv(\"apartments_pl_2023_09.csv\")\n",
    "data_OCT = pd.read_csv(\"apartments_pl_2023_10.csv\")"
   ]
  },
  {
   "cell_type": "code",
   "execution_count": 30,
   "id": "f94906b9",
   "metadata": {},
   "outputs": [],
   "source": [
    "data_AUG.drop(columns=[\"id\"], inplace=True)\n",
    "data_AUG.drop_duplicates(inplace = True)\n",
    "data_AUG.drop(columns=[\"schoolDistance\",\"clinicDistance\",\"postOfficeDistance\",\"kindergartenDistance\",\"restaurantDistance\",\"collegeDistance\",\"pharmacyDistance\"], inplace=True)\n",
    "data_AUG.drop(columns=[\"buildingMaterial\",\"condition\"], inplace=True)\n",
    "\n",
    "data_SEP.drop(columns=[\"id\"], inplace=True)\n",
    "data_SEP.drop_duplicates(inplace = True)\n",
    "data_SEP.drop(columns=[\"schoolDistance\",\"clinicDistance\",\"postOfficeDistance\",\"kindergartenDistance\",\"restaurantDistance\",\"collegeDistance\",\"pharmacyDistance\"], inplace=True)\n",
    "data_SEP.drop(columns=[\"buildingMaterial\",\"condition\"], inplace=True)\n",
    "\n",
    "data_OCT.drop(columns=[\"id\"], inplace=True)\n",
    "data_OCT.drop_duplicates(inplace = True)\n",
    "data_OCT.drop(columns=[\"schoolDistance\",\"clinicDistance\",\"postOfficeDistance\",\"kindergartenDistance\",\"restaurantDistance\",\"collegeDistance\",\"pharmacyDistance\"], inplace=True)\n",
    "data_OCT.drop(columns=[\"buildingMaterial\",\"condition\"], inplace=True)"
   ]
  },
  {
   "cell_type": "code",
   "execution_count": 31,
   "id": "44e206d1",
   "metadata": {},
   "outputs": [
    {
     "data": {
      "text/html": [
       "<div>\n",
       "<style scoped>\n",
       "    .dataframe tbody tr th:only-of-type {\n",
       "        vertical-align: middle;\n",
       "    }\n",
       "\n",
       "    .dataframe tbody tr th {\n",
       "        vertical-align: top;\n",
       "    }\n",
       "\n",
       "    .dataframe thead th {\n",
       "        text-align: right;\n",
       "    }\n",
       "</style>\n",
       "<table border=\"1\" class=\"dataframe\">\n",
       "  <thead>\n",
       "    <tr style=\"text-align: right;\">\n",
       "      <th></th>\n",
       "      <th>AUG</th>\n",
       "      <th>AUG %</th>\n",
       "      <th>SEP</th>\n",
       "      <th>SEP %</th>\n",
       "      <th>OCT</th>\n",
       "      <th>OCT %</th>\n",
       "    </tr>\n",
       "  </thead>\n",
       "  <tbody>\n",
       "    <tr>\n",
       "      <th>city</th>\n",
       "      <td>0</td>\n",
       "      <td>0.00</td>\n",
       "      <td>0</td>\n",
       "      <td>0.00</td>\n",
       "      <td>0</td>\n",
       "      <td>0.00</td>\n",
       "    </tr>\n",
       "    <tr>\n",
       "      <th>type</th>\n",
       "      <td>3985</td>\n",
       "      <td>21.30</td>\n",
       "      <td>3765</td>\n",
       "      <td>22.38</td>\n",
       "      <td>3728</td>\n",
       "      <td>22.54</td>\n",
       "    </tr>\n",
       "    <tr>\n",
       "      <th>squareMeters</th>\n",
       "      <td>0</td>\n",
       "      <td>0.00</td>\n",
       "      <td>0</td>\n",
       "      <td>0.00</td>\n",
       "      <td>0</td>\n",
       "      <td>0.00</td>\n",
       "    </tr>\n",
       "    <tr>\n",
       "      <th>rooms</th>\n",
       "      <td>0</td>\n",
       "      <td>0.00</td>\n",
       "      <td>0</td>\n",
       "      <td>0.00</td>\n",
       "      <td>0</td>\n",
       "      <td>0.00</td>\n",
       "    </tr>\n",
       "    <tr>\n",
       "      <th>floor</th>\n",
       "      <td>3394</td>\n",
       "      <td>18.14</td>\n",
       "      <td>3005</td>\n",
       "      <td>17.86</td>\n",
       "      <td>3019</td>\n",
       "      <td>18.25</td>\n",
       "    </tr>\n",
       "    <tr>\n",
       "      <th>floorCount</th>\n",
       "      <td>259</td>\n",
       "      <td>1.38</td>\n",
       "      <td>243</td>\n",
       "      <td>1.44</td>\n",
       "      <td>242</td>\n",
       "      <td>1.46</td>\n",
       "    </tr>\n",
       "    <tr>\n",
       "      <th>buildYear</th>\n",
       "      <td>3226</td>\n",
       "      <td>17.25</td>\n",
       "      <td>2906</td>\n",
       "      <td>17.27</td>\n",
       "      <td>2881</td>\n",
       "      <td>17.42</td>\n",
       "    </tr>\n",
       "    <tr>\n",
       "      <th>latitude</th>\n",
       "      <td>0</td>\n",
       "      <td>0.00</td>\n",
       "      <td>0</td>\n",
       "      <td>0.00</td>\n",
       "      <td>0</td>\n",
       "      <td>0.00</td>\n",
       "    </tr>\n",
       "    <tr>\n",
       "      <th>longitude</th>\n",
       "      <td>0</td>\n",
       "      <td>0.00</td>\n",
       "      <td>0</td>\n",
       "      <td>0.00</td>\n",
       "      <td>0</td>\n",
       "      <td>0.00</td>\n",
       "    </tr>\n",
       "    <tr>\n",
       "      <th>centreDistance</th>\n",
       "      <td>0</td>\n",
       "      <td>0.00</td>\n",
       "      <td>0</td>\n",
       "      <td>0.00</td>\n",
       "      <td>0</td>\n",
       "      <td>0.00</td>\n",
       "    </tr>\n",
       "    <tr>\n",
       "      <th>poiCount</th>\n",
       "      <td>0</td>\n",
       "      <td>0.00</td>\n",
       "      <td>0</td>\n",
       "      <td>0.00</td>\n",
       "      <td>0</td>\n",
       "      <td>0.00</td>\n",
       "    </tr>\n",
       "    <tr>\n",
       "      <th>ownership</th>\n",
       "      <td>0</td>\n",
       "      <td>0.00</td>\n",
       "      <td>0</td>\n",
       "      <td>0.00</td>\n",
       "      <td>0</td>\n",
       "      <td>0.00</td>\n",
       "    </tr>\n",
       "    <tr>\n",
       "      <th>hasParkingSpace</th>\n",
       "      <td>0</td>\n",
       "      <td>0.00</td>\n",
       "      <td>0</td>\n",
       "      <td>0.00</td>\n",
       "      <td>0</td>\n",
       "      <td>0.00</td>\n",
       "    </tr>\n",
       "    <tr>\n",
       "      <th>hasBalcony</th>\n",
       "      <td>0</td>\n",
       "      <td>0.00</td>\n",
       "      <td>0</td>\n",
       "      <td>0.00</td>\n",
       "      <td>0</td>\n",
       "      <td>0.00</td>\n",
       "    </tr>\n",
       "    <tr>\n",
       "      <th>hasElevator</th>\n",
       "      <td>920</td>\n",
       "      <td>4.92</td>\n",
       "      <td>862</td>\n",
       "      <td>5.12</td>\n",
       "      <td>889</td>\n",
       "      <td>5.38</td>\n",
       "    </tr>\n",
       "    <tr>\n",
       "      <th>hasSecurity</th>\n",
       "      <td>0</td>\n",
       "      <td>0.00</td>\n",
       "      <td>0</td>\n",
       "      <td>0.00</td>\n",
       "      <td>0</td>\n",
       "      <td>0.00</td>\n",
       "    </tr>\n",
       "    <tr>\n",
       "      <th>hasStorageRoom</th>\n",
       "      <td>0</td>\n",
       "      <td>0.00</td>\n",
       "      <td>0</td>\n",
       "      <td>0.00</td>\n",
       "      <td>0</td>\n",
       "      <td>0.00</td>\n",
       "    </tr>\n",
       "    <tr>\n",
       "      <th>price</th>\n",
       "      <td>0</td>\n",
       "      <td>0.00</td>\n",
       "      <td>0</td>\n",
       "      <td>0.00</td>\n",
       "      <td>0</td>\n",
       "      <td>0.00</td>\n",
       "    </tr>\n",
       "  </tbody>\n",
       "</table>\n",
       "</div>"
      ],
      "text/plain": [
       "                  AUG  AUG %   SEP  SEP %   OCT  OCT %\n",
       "city                0   0.00     0   0.00     0   0.00\n",
       "type             3985  21.30  3765  22.38  3728  22.54\n",
       "squareMeters        0   0.00     0   0.00     0   0.00\n",
       "rooms               0   0.00     0   0.00     0   0.00\n",
       "floor            3394  18.14  3005  17.86  3019  18.25\n",
       "floorCount        259   1.38   243   1.44   242   1.46\n",
       "buildYear        3226  17.25  2906  17.27  2881  17.42\n",
       "latitude            0   0.00     0   0.00     0   0.00\n",
       "longitude           0   0.00     0   0.00     0   0.00\n",
       "centreDistance      0   0.00     0   0.00     0   0.00\n",
       "poiCount            0   0.00     0   0.00     0   0.00\n",
       "ownership           0   0.00     0   0.00     0   0.00\n",
       "hasParkingSpace     0   0.00     0   0.00     0   0.00\n",
       "hasBalcony          0   0.00     0   0.00     0   0.00\n",
       "hasElevator       920   4.92   862   5.12   889   5.38\n",
       "hasSecurity         0   0.00     0   0.00     0   0.00\n",
       "hasStorageRoom      0   0.00     0   0.00     0   0.00\n",
       "price               0   0.00     0   0.00     0   0.00"
      ]
     },
     "execution_count": 31,
     "metadata": {},
     "output_type": "execute_result"
    }
   ],
   "source": [
    "missing_values = pd.concat([\n",
    "        data_AUG.isna().sum(),\n",
    "        data_AUG.isna().sum() / len(data_AUG) * 100,\n",
    "        data_SEP.isna().sum(),\n",
    "        data_SEP.isna().sum() / len(data_SEP) * 100,\n",
    "        data_OCT.isna().sum(),\n",
    "        data_OCT.isna().sum() / len(data_OCT) * 100\n",
    "    ],\n",
    "    axis=1\n",
    ")\n",
    "missing_values.rename(columns = {0:'AUG', 1:'AUG %',2:'SEP', 3:'SEP %',4:'OCT', 5:'OCT %',6:'ALL', 7:'ALL %'}, inplace = True)\n",
    "missing_values"
   ]
  },
  {
   "cell_type": "code",
   "execution_count": 32,
   "id": "12879593",
   "metadata": {},
   "outputs": [
    {
     "data": {
      "text/plain": [
       "<Axes: >"
      ]
     },
     "execution_count": 32,
     "metadata": {},
     "output_type": "execute_result"
    },
    {
     "data": {
      "image/png": "[encoded data removed]",
      "text/plain": [
       "<Figure size 640x480 with 1 Axes>"
      ]
     },
     "metadata": {},
     "output_type": "display_data"
    }
   ],
   "source": [
    "data_AUG.isna().sum(1).hist()"
   ]
  },
  {
   "cell_type": "code",
   "execution_count": 33,
   "id": "738cc2e0",
   "metadata": {},
   "outputs": [
    {
     "data": {
      "text/plain": [
       "<Axes: >"
      ]
     },
     "execution_count": 33,
     "metadata": {},
     "output_type": "execute_result"
    },
    {
     "data": {
      "image/png": "[encoded data removed]",
      "text/plain": [
       "<Figure size 640x480 with 1 Axes>"
      ]
     },
     "metadata": {},
     "output_type": "display_data"
    }
   ],
   "source": [
    "data_SEP.isna().sum(1).hist()"
   ]
  },
  {
   "cell_type": "code",
   "execution_count": 34,
   "id": "042e6052",
   "metadata": {},
   "outputs": [
    {
     "data": {
      "text/plain": [
       "<Axes: >"
      ]
     },
     "execution_count": 34,
     "metadata": {},
     "output_type": "execute_result"
    },
    {
     "data": {
      "image/png": "[encoded data removed]",
      "text/plain": [
       "<Figure size 640x480 with 1 Axes>"
      ]
     },
     "metadata": {},
     "output_type": "display_data"
    }
   ],
   "source": [
    "data_OCT.isna().sum(1).hist()"
   ]
  },
  {
   "cell_type": "code",
   "execution_count": 37,
   "id": "3ec8784a",
   "metadata": {},
   "outputs": [],
   "source": [
    "data_AUG = data_AUG.loc[(data_AUG.isna().sum(axis=1)<3)]\n",
    "data_SEP = data_SEP.loc[(data_SEP.isna().sum(axis=1)<3)]\n",
    "data_OCT = data_OCT.loc[(data_OCT.isna().sum(axis=1)<3)]"
   ]
  },
  {
   "cell_type": "code",
   "execution_count": 38,
   "id": "0d738f5c",
   "metadata": {},
   "outputs": [
    {
     "data": {
      "text/html": [
       "<div>\n",
       "<style scoped>\n",
       "    .dataframe tbody tr th:only-of-type {\n",
       "        vertical-align: middle;\n",
       "    }\n",
       "\n",
       "    .dataframe tbody tr th {\n",
       "        vertical-align: top;\n",
       "    }\n",
       "\n",
       "    .dataframe thead th {\n",
       "        text-align: right;\n",
       "    }\n",
       "</style>\n",
       "<table border=\"1\" class=\"dataframe\">\n",
       "  <thead>\n",
       "    <tr style=\"text-align: right;\">\n",
       "      <th></th>\n",
       "      <th>AUG</th>\n",
       "      <th>AUG %</th>\n",
       "      <th>SEP</th>\n",
       "      <th>SEP %</th>\n",
       "      <th>OCT</th>\n",
       "      <th>OCT %</th>\n",
       "    </tr>\n",
       "  </thead>\n",
       "  <tbody>\n",
       "    <tr>\n",
       "      <th>city</th>\n",
       "      <td>0</td>\n",
       "      <td>0.00</td>\n",
       "      <td>0</td>\n",
       "      <td>0.00</td>\n",
       "      <td>0</td>\n",
       "      <td>0.00</td>\n",
       "    </tr>\n",
       "    <tr>\n",
       "      <th>type</th>\n",
       "      <td>3485</td>\n",
       "      <td>19.25</td>\n",
       "      <td>3313</td>\n",
       "      <td>20.35</td>\n",
       "      <td>3250</td>\n",
       "      <td>20.34</td>\n",
       "    </tr>\n",
       "    <tr>\n",
       "      <th>squareMeters</th>\n",
       "      <td>0</td>\n",
       "      <td>0.00</td>\n",
       "      <td>0</td>\n",
       "      <td>0.00</td>\n",
       "      <td>0</td>\n",
       "      <td>0.00</td>\n",
       "    </tr>\n",
       "    <tr>\n",
       "      <th>rooms</th>\n",
       "      <td>0</td>\n",
       "      <td>0.00</td>\n",
       "      <td>0</td>\n",
       "      <td>0.00</td>\n",
       "      <td>0</td>\n",
       "      <td>0.00</td>\n",
       "    </tr>\n",
       "    <tr>\n",
       "      <th>floor</th>\n",
       "      <td>2981</td>\n",
       "      <td>16.46</td>\n",
       "      <td>2632</td>\n",
       "      <td>16.17</td>\n",
       "      <td>2633</td>\n",
       "      <td>16.47</td>\n",
       "    </tr>\n",
       "    <tr>\n",
       "      <th>floorCount</th>\n",
       "      <td>54</td>\n",
       "      <td>0.30</td>\n",
       "      <td>42</td>\n",
       "      <td>0.26</td>\n",
       "      <td>41</td>\n",
       "      <td>0.26</td>\n",
       "    </tr>\n",
       "    <tr>\n",
       "      <th>buildYear</th>\n",
       "      <td>2722</td>\n",
       "      <td>15.03</td>\n",
       "      <td>2468</td>\n",
       "      <td>15.16</td>\n",
       "      <td>2430</td>\n",
       "      <td>15.20</td>\n",
       "    </tr>\n",
       "    <tr>\n",
       "      <th>latitude</th>\n",
       "      <td>0</td>\n",
       "      <td>0.00</td>\n",
       "      <td>0</td>\n",
       "      <td>0.00</td>\n",
       "      <td>0</td>\n",
       "      <td>0.00</td>\n",
       "    </tr>\n",
       "    <tr>\n",
       "      <th>longitude</th>\n",
       "      <td>0</td>\n",
       "      <td>0.00</td>\n",
       "      <td>0</td>\n",
       "      <td>0.00</td>\n",
       "      <td>0</td>\n",
       "      <td>0.00</td>\n",
       "    </tr>\n",
       "    <tr>\n",
       "      <th>centreDistance</th>\n",
       "      <td>0</td>\n",
       "      <td>0.00</td>\n",
       "      <td>0</td>\n",
       "      <td>0.00</td>\n",
       "      <td>0</td>\n",
       "      <td>0.00</td>\n",
       "    </tr>\n",
       "    <tr>\n",
       "      <th>poiCount</th>\n",
       "      <td>0</td>\n",
       "      <td>0.00</td>\n",
       "      <td>0</td>\n",
       "      <td>0.00</td>\n",
       "      <td>0</td>\n",
       "      <td>0.00</td>\n",
       "    </tr>\n",
       "    <tr>\n",
       "      <th>ownership</th>\n",
       "      <td>0</td>\n",
       "      <td>0.00</td>\n",
       "      <td>0</td>\n",
       "      <td>0.00</td>\n",
       "      <td>0</td>\n",
       "      <td>0.00</td>\n",
       "    </tr>\n",
       "    <tr>\n",
       "      <th>hasParkingSpace</th>\n",
       "      <td>0</td>\n",
       "      <td>0.00</td>\n",
       "      <td>0</td>\n",
       "      <td>0.00</td>\n",
       "      <td>0</td>\n",
       "      <td>0.00</td>\n",
       "    </tr>\n",
       "    <tr>\n",
       "      <th>hasBalcony</th>\n",
       "      <td>0</td>\n",
       "      <td>0.00</td>\n",
       "      <td>0</td>\n",
       "      <td>0.00</td>\n",
       "      <td>0</td>\n",
       "      <td>0.00</td>\n",
       "    </tr>\n",
       "    <tr>\n",
       "      <th>hasElevator</th>\n",
       "      <td>541</td>\n",
       "      <td>2.99</td>\n",
       "      <td>511</td>\n",
       "      <td>3.14</td>\n",
       "      <td>521</td>\n",
       "      <td>3.26</td>\n",
       "    </tr>\n",
       "    <tr>\n",
       "      <th>hasSecurity</th>\n",
       "      <td>0</td>\n",
       "      <td>0.00</td>\n",
       "      <td>0</td>\n",
       "      <td>0.00</td>\n",
       "      <td>0</td>\n",
       "      <td>0.00</td>\n",
       "    </tr>\n",
       "    <tr>\n",
       "      <th>hasStorageRoom</th>\n",
       "      <td>0</td>\n",
       "      <td>0.00</td>\n",
       "      <td>0</td>\n",
       "      <td>0.00</td>\n",
       "      <td>0</td>\n",
       "      <td>0.00</td>\n",
       "    </tr>\n",
       "    <tr>\n",
       "      <th>price</th>\n",
       "      <td>0</td>\n",
       "      <td>0.00</td>\n",
       "      <td>0</td>\n",
       "      <td>0.00</td>\n",
       "      <td>0</td>\n",
       "      <td>0.00</td>\n",
       "    </tr>\n",
       "  </tbody>\n",
       "</table>\n",
       "</div>"
      ],
      "text/plain": [
       "                  AUG  AUG %   SEP  SEP %   OCT  OCT %\n",
       "city                0   0.00     0   0.00     0   0.00\n",
       "type             3485  19.25  3313  20.35  3250  20.34\n",
       "squareMeters        0   0.00     0   0.00     0   0.00\n",
       "rooms               0   0.00     0   0.00     0   0.00\n",
       "floor            2981  16.46  2632  16.17  2633  16.47\n",
       "floorCount         54   0.30    42   0.26    41   0.26\n",
       "buildYear        2722  15.03  2468  15.16  2430  15.20\n",
       "latitude            0   0.00     0   0.00     0   0.00\n",
       "longitude           0   0.00     0   0.00     0   0.00\n",
       "centreDistance      0   0.00     0   0.00     0   0.00\n",
       "poiCount            0   0.00     0   0.00     0   0.00\n",
       "ownership           0   0.00     0   0.00     0   0.00\n",
       "hasParkingSpace     0   0.00     0   0.00     0   0.00\n",
       "hasBalcony          0   0.00     0   0.00     0   0.00\n",
       "hasElevator       541   2.99   511   3.14   521   3.26\n",
       "hasSecurity         0   0.00     0   0.00     0   0.00\n",
       "hasStorageRoom      0   0.00     0   0.00     0   0.00\n",
       "price               0   0.00     0   0.00     0   0.00"
      ]
     },
     "execution_count": 38,
     "metadata": {},
     "output_type": "execute_result"
    }
   ],
   "source": [
    "missing_values = pd.concat([\n",
    "        data_AUG.isna().sum(),\n",
    "        data_AUG.isna().sum() / len(data_AUG) * 100,\n",
    "        data_SEP.isna().sum(),\n",
    "        data_SEP.isna().sum() / len(data_SEP) * 100,\n",
    "        data_OCT.isna().sum(),\n",
    "        data_OCT.isna().sum() / len(data_OCT) * 100\n",
    "    ],\n",
    "    axis=1\n",
    ")\n",
    "missing_values.rename(columns = {0:'AUG', 1:'AUG %',2:'SEP', 3:'SEP %',4:'OCT', 5:'OCT %',6:'ALL', 7:'ALL %'}, inplace = True)\n",
    "missing_values"
   ]
  },
  {
   "cell_type": "markdown",
   "id": "60cc0e38",
   "metadata": {},
   "source": [
    "## Przypisanie miesiąca do poszczególnych ofert na podstawie pliku, z którego pochodzą dane"
   ]
  },
  {
   "cell_type": "code",
   "execution_count": null,
   "id": "65e7cc76",
   "metadata": {},
   "outputs": [],
   "source": [
    "# dodanie miesiąca, w którym dana oferta sprzedaży była dostępna (wszystkie dane pochodzą z roku 2023)\n",
    "data_AUG[\"offerMonth\"] = 8\n",
    "data_SEP[\"offerMonth\"] = 9\n",
    "data_OCT[\"offerMonth\"] = 10"
   ]
  },
  {
   "cell_type": "code",
   "execution_count": null,
   "id": "798ee8a8",
   "metadata": {},
   "outputs": [],
   "source": [
    "data_ALL = pd.concat([data_AUG, data_SEP, data_OCT], ignore_index=True)"
   ]
  },
  {
   "cell_type": "code",
   "execution_count": null,
   "id": "a61d7406",
   "metadata": {},
   "outputs": [],
   "source": [
    "data_ALL.tail()"
   ]
  },
  {
   "cell_type": "code",
   "execution_count": null,
   "id": "61ff00b1",
   "metadata": {},
   "outputs": [],
   "source": [
    "data_ALL.count()"
   ]
  },
  {
   "cell_type": "code",
   "execution_count": null,
   "id": "219238d1",
   "metadata": {},
   "outputs": [],
   "source": [
    "# porównanie duplikatów, z pominięciem dodanej kolumny offerMonth\n",
    "data_ALL.loc[data_ALL.duplicated(data_ALL.columns.delete(data_ALL.columns.get_loc(\"offerMonth\")))]"
   ]
  },
  {
   "cell_type": "code",
   "execution_count": null,
   "id": "941830aa",
   "metadata": {},
   "outputs": [],
   "source": [
    "# w poszczególnych miesiącach nie występują duplikaty tej samej oferty, ponieważ metoda duplicated() \n",
    "# nie znajduje wierszy jeśli uwzględniona zostanie kolumna \"offerMonth\"\n",
    "data_ALL.loc[data_ALL.duplicated()]\n",
    "\n",
    "# TODO: ta komorka moze byc zbedna po analizie danych"
   ]
  },
  {
   "cell_type": "markdown",
   "id": "53208f81",
   "metadata": {},
   "source": [
    "## Usunięcie duplikatów"
   ]
  },
  {
   "cell_type": "code",
   "execution_count": null,
   "id": "4c314eb4",
   "metadata": {},
   "outputs": [],
   "source": [
    "data_FILTERED = data_ALL.drop_duplicates(subset=[\"id\"], keep='last')\n",
    "data_FILTERED"
   ]
  },
  {
   "cell_type": "code",
   "execution_count": null,
   "id": "6a2dac63",
   "metadata": {},
   "outputs": [],
   "source": [
    "data_FILTERED.count()"
   ]
  },
  {
   "cell_type": "code",
   "execution_count": null,
   "id": "14fbc37d",
   "metadata": {},
   "outputs": [],
   "source": [
    "data_FILTERED = data_FILTERED.reset_index(drop=True)"
   ]
  },
  {
   "cell_type": "code",
   "execution_count": null,
   "id": "a147e5b1",
   "metadata": {},
   "outputs": [],
   "source": [
    "data_FILTERED"
   ]
  }
 ],
 "metadata": {
  "kernelspec": {
   "display_name": "Python 3 (ipykernel)",
   "language": "python",
   "name": "python3"
  },
  "language_info": {
   "codemirror_mode": {
    "name": "ipython",
    "version": 3
   },
   "file_extension": ".py",
   "mimetype": "text/x-python",
   "name": "python",
   "nbconvert_exporter": "python",
   "pygments_lexer": "ipython3",
   "version": "3.10.9"
  }
 },
 "nbformat": 4,
 "nbformat_minor": 5
}
