{
 "cells": [
  {
   "cell_type": "markdown",
   "id": "d61fe73b",
   "metadata": {},
   "source": [
    "Skład grupy:\n",
    "    Paweł Awramiuk\n",
    "    Anna Chojnowska\n",
    "    Piotr Grusza\n",
    "    Szymon Leszczyński"
   ]
  },
  {
   "cell_type": "code",
   "execution_count": null,
   "id": "231104f3",
   "metadata": {},
   "outputs": [
    {
     "name": "stderr",
     "output_type": "stream",
     "text": [
      "2023-11-12 21:50:33.774534: I tensorflow/core/platform/cpu_feature_guard.cc:182] This TensorFlow binary is optimized to use available CPU instructions in performance-critical operations.\n",
      "To enable the following instructions: SSE4.1 SSE4.2 AVX AVX2 FMA, in other operations, rebuild TensorFlow with the appropriate compiler flags.\n"
     ]
    }
   ],
   "source": [
    "## Polecenia do instalacji pakietów\n",
    "# conda install -c conda-forge tensorflow\n",
    "import tensorflow as tf\n",
    "import pandas as pd\n",
    "import numpy as np\n",
    "import matplotlib.pyplot as plt\n",
    "\n",
    "## Konfiguracje globalne\n",
    "# Formatowanie liczb w DataFrame\n",
    "pd.set_option('display.precision', 2)\n",
    "pd.set_option('display.float_format', '{:.2f}'.format)"
   ]
  },
  {
   "cell_type": "code",
   "execution_count": null,
   "id": "0babf436",
   "metadata": {},
   "outputs": [],
   "source": [
    "data_AUG = pd.read_csv(\"apartments_pl_2023_08.csv\")\n",
    "data_SEP = pd.read_csv(\"apartments_pl_2023_09.csv\")\n",
    "data_OCT = pd.read_csv(\"apartments_pl_2023_10.csv\")"
   ]
  },
  {
   "cell_type": "code",
   "execution_count": null,
   "id": "d65bf036",
   "metadata": {},
   "outputs": [],
   "source": [
    "data_AUG.drop(columns=[\"id\"], inplace=True)\n",
    "data_AUG.drop(columns=[\"schoolDistance\",\"clinicDistance\",\"postOfficeDistance\",\"kindergartenDistance\",\"restaurantDistance\",\"collegeDistance\",\"pharmacyDistance\"], inplace=True)\n",
    "data_AUG.drop(columns=[\"buildingMaterial\",\"condition\", \"type\"], inplace=True)\n",
    "\n",
    "data_SEP.drop(columns=[\"id\"], inplace=True)\n",
    "data_SEP.drop(columns=[\"schoolDistance\",\"clinicDistance\",\"postOfficeDistance\",\"kindergartenDistance\",\"restaurantDistance\",\"collegeDistance\",\"pharmacyDistance\"], inplace=True)\n",
    "data_SEP.drop(columns=[\"buildingMaterial\",\"condition\", \"type\"], inplace=True)\n",
    "\n",
    "data_OCT.drop(columns=[\"id\"], inplace=True)\n",
    "data_OCT.drop(columns=[\"schoolDistance\",\"clinicDistance\",\"postOfficeDistance\",\"kindergartenDistance\",\"restaurantDistance\",\"collegeDistance\",\"pharmacyDistance\"], inplace=True)\n",
    "data_OCT.drop(columns=[\"buildingMaterial\",\"condition\", \"type\"], inplace=True)\n",
    "\n",
    "\n",
    "data_SEP.drop_duplicates(inplace = True)\n",
    "data_AUG.drop_duplicates(inplace = True)\n",
    "data_OCT.drop_duplicates(inplace = True)"
   ]
  },
  {
   "cell_type": "markdown",
   "id": "94aca5f3",
   "metadata": {},
   "source": [
    "Na podstawie wcześniejszej analizy usuwamy kolumny: \"schoolDistance\",\"clinicDistance\",\"postOfficeDistance\",\"kindergartenDistance\",\"restaurantDistance\",\"collegeDistance\",\"pharmacyDistance\", gdyż są one silnie ze sobą skorelowane, a w danych występuje dodatkowa zależna od nich kolumna \"poiCount\". Usuwamy również kolumnę \"id\" zawierającą unikatowy identyfikator wiersza, oraz ze względu na wysoki procent braków w rekordach kolumny \"buildingMaterial\", \"condition\" oraz \"type\"."
   ]
  },
  {
   "cell_type": "code",
   "execution_count": null,
   "id": "b77a5f64",
   "metadata": {},
   "outputs": [],
   "source": [
    "missing_values = pd.concat([\n",
    "        data_AUG.isna().sum(),\n",
    "        data_AUG.isna().sum() / len(data_AUG) * 100,\n",
    "        data_SEP.isna().sum(),\n",
    "        data_SEP.isna().sum() / len(data_SEP) * 100,\n",
    "        data_OCT.isna().sum(),\n",
    "        data_OCT.isna().sum() / len(data_OCT) * 100\n",
    "    ],\n",
    "    axis=1\n",
    ")\n",
    "missing_values.rename(columns = {0:'AUG', 1:'AUG %',2:'SEP', 3:'SEP %',4:'OCT', 5:'OCT %',6:'ALL', 7:'ALL %'}, inplace = True)\n",
    "missing_values"
   ]
  },
  {
   "cell_type": "code",
   "execution_count": null,
   "id": "89b81449",
   "metadata": {},
   "outputs": [],
   "source": [
    "data_AUG.isna().sum(1).hist()"
   ]
  },
  {
   "cell_type": "code",
   "execution_count": null,
   "id": "dab3ca58",
   "metadata": {},
   "outputs": [],
   "source": [
    "data_SEP.isna().sum(1).hist()"
   ]
  },
  {
   "cell_type": "code",
   "execution_count": null,
   "id": "0ac53cfb",
   "metadata": {},
   "outputs": [],
   "source": [
    "data_OCT.isna().sum(1).hist()"
   ]
  },
  {
   "cell_type": "code",
   "execution_count": null,
   "id": "4667237b",
   "metadata": {},
   "outputs": [],
   "source": [
    "data_AUG = data_AUG.loc[(data_AUG.isna().sum(axis=1)<3)]\n",
    "data_SEP = data_SEP.loc[(data_SEP.isna().sum(axis=1)<3)]\n",
    "data_OCT = data_OCT.loc[(data_OCT.isna().sum(axis=1)<3)]"
   ]
  },
  {
   "cell_type": "markdown",
   "id": "22d44871",
   "metadata": {},
   "source": [
    "Ze względu na niski odsetek rekordów posiadajacych więcej, niż dwa braki, oferty takie zostały usunięte, celem łatwiejszego uzupełnienia braków w ofertach."
   ]
  },
  {
   "cell_type": "code",
   "execution_count": null,
   "id": "bacecc28",
   "metadata": {},
   "outputs": [],
   "source": [
    "def show_missing_values(data):\n",
    "    missing_values = pd.concat([\n",
    "        data.isna().sum(),\n",
    "        data.isna().sum() / len(data) * 100\n",
    "    ],axis=1)\n",
    "    missing_values.rename(columns = {0:'MISSING', 1:'MISSING %'}, inplace = True)\n",
    "    print(missing_values)"
   ]
  },
  {
   "cell_type": "code",
   "execution_count": null,
   "id": "9dae0c58",
   "metadata": {},
   "outputs": [],
   "source": [
    "missing_values = pd.concat([\n",
    "        data_AUG.isna().sum(),\n",
    "        data_AUG.isna().sum() / len(data_AUG) * 100,\n",
    "        data_SEP.isna().sum(),\n",
    "        data_SEP.isna().sum() / len(data_SEP) * 100,\n",
    "        data_OCT.isna().sum(),\n",
    "        data_OCT.isna().sum() / len(data_OCT) * 100\n",
    "    ],\n",
    "    axis=1\n",
    ")\n",
    "missing_values.rename(columns = {0:'AUG', 1:'AUG %',2:'SEP', 3:'SEP %',4:'OCT', 5:'OCT %',6:'ALL', 7:'ALL %'}, inplace = True)\n",
    "missing_values"
   ]
  },
  {
   "cell_type": "code",
   "execution_count": null,
   "id": "04c03b51-b40f-4cc3-933f-7d633f51945e",
   "metadata": {
    "tags": []
   },
   "outputs": [],
   "source": [
    "import missingno as msno"
   ]
  },
  {
   "cell_type": "code",
   "execution_count": null,
   "id": "db82263e-83eb-4132-b8b8-85582d6c41c2",
   "metadata": {
    "tags": []
   },
   "outputs": [],
   "source": [
    "msno.heatmap(data_AUG)"
   ]
  },
  {
   "cell_type": "code",
   "execution_count": null,
   "id": "9e5bfe7b-054e-49d3-94b9-04ec51a3de43",
   "metadata": {},
   "outputs": [],
   "source": [
    "msno.heatmap(data_SEP)"
   ]
  },
  {
   "cell_type": "code",
   "execution_count": null,
   "id": "e417986b-e2d5-4f16-98c6-f1d187f4fa09",
   "metadata": {
    "tags": []
   },
   "outputs": [],
   "source": [
    "msno.heatmap(data_OCT)"
   ]
  },
  {
   "cell_type": "markdown",
   "id": "b915b97b-5c0c-479c-862f-dd8fde788f17",
   "metadata": {
    "tags": []
   },
   "source": [
    "Powyższe wykresy wskazują na to, że nie występuje korelacja pomiędzy brakującymi danymi w poszczególnych miesiąca, co może oznaczać, że mamy do czynienia z brakami \"Missing at Random\"."
   ]
  },
  {
   "cell_type": "markdown",
   "id": "60cc0e38",
   "metadata": {},
   "source": [
    "## Przypisanie miesiąca do poszczególnych ofert na podstawie pliku, z którego pochodzą dane"
   ]
  },
  {
   "cell_type": "code",
   "execution_count": null,
   "id": "65e7cc76",
   "metadata": {},
   "outputs": [],
   "source": [
    "# dodanie miesiąca, w którym dana oferta sprzedaży była dostępna (wszystkie dane pochodzą z roku 2023)\n",
    "data_AUG[\"offerMonth\"] = 8\n",
    "data_SEP[\"offerMonth\"] = 9\n",
    "data_OCT[\"offerMonth\"] = 10"
   ]
  },
  {
   "cell_type": "markdown",
   "id": "0259b563",
   "metadata": {},
   "source": [
    "Do każdej oferty dodajemy informację o miesiącu, z którego pochodzi, co po złączeniu plików da nam informację o trendach zmian cen w danym przedziale czasu."
   ]
  },
  {
   "cell_type": "markdown",
   "id": "425d3227-ad1e-490d-8213-b24a6f54ae5b",
   "metadata": {},
   "source": [
    "# Obsługa brakujących danych"
   ]
  },
  {
   "cell_type": "markdown",
   "id": "88aef2fe-4701-4d72-8bf8-79795d6e9c3e",
   "metadata": {},
   "source": [
    "W przypadku brakujących danych, które zostaną uzupełnione wartościami średnimi lub medianą, operacje zostaną wykonane oddzielnie w obrębie poszczególnych miesięcy, aby uzupełnione oferty, były bardziej zbliżone do innych ofert wystawionych w podobnym czasie."
   ]
  },
  {
   "cell_type": "markdown",
   "id": "1e35fa1b-9175-4003-9b29-9abed4e586f4",
   "metadata": {},
   "source": [
    "Uzupełnienie danych w kolumnach, w których wartości zostaną uzupełnione na podstawie innych kolumn/wiedzy dziedzinowej zostanie wykonane po wcześniejszym połączeniu danych w jeden DataFrame."
   ]
  },
  {
   "cell_type": "markdown",
   "id": "47cf7c1f-0dae-4104-9e9b-9cee716a0603",
   "metadata": {},
   "source": [
    "## buildYear, floorCount, floor"
   ]
  },
  {
   "cell_type": "markdown",
   "id": "a269266b-435b-41ac-bf28-949d737f8daf",
   "metadata": {},
   "source": [
    "Braki w tych trzech zmiennych są uzupełniane medianą."
   ]
  },
  {
   "cell_type": "code",
   "execution_count": null,
   "id": "e0ef9597-2e79-4733-8152-ba34ff30260f",
   "metadata": {
    "tags": []
   },
   "outputs": [],
   "source": [
    "data_AUG.fillna(data_AUG.median(numeric_only=True), inplace=True)\n",
    "data_SEP.fillna(data_SEP.median(numeric_only=True), inplace=True)\n",
    "data_OCT.fillna(data_OCT.median(numeric_only=True), inplace=True)"
   ]
  },
  {
   "cell_type": "markdown",
   "id": "70fefa7e-906f-4d79-a110-3e1f5c3cc63a",
   "metadata": {},
   "source": [
    "## Złączenie danych"
   ]
  },
  {
   "cell_type": "code",
   "execution_count": null,
   "id": "798ee8a8",
   "metadata": {},
   "outputs": [],
   "source": [
    "data_ALL = pd.concat([data_AUG, data_SEP, data_OCT], ignore_index=True)"
   ]
  },
  {
   "cell_type": "code",
   "execution_count": null,
   "id": "a61d7406",
   "metadata": {},
   "outputs": [],
   "source": [
    "data_ALL.tail()"
   ]
  },
  {
   "cell_type": "code",
   "execution_count": null,
   "id": "61ff00b1",
   "metadata": {},
   "outputs": [],
   "source": [
    "data_ALL.count()"
   ]
  },
  {
   "cell_type": "markdown",
   "id": "471a60b1-8846-4d82-bde5-617504d821db",
   "metadata": {},
   "source": [
    "## hasElevator"
   ]
  },
  {
   "cell_type": "markdown",
   "id": "11cc9055",
   "metadata": {},
   "source": [
    "https://isap.sejm.gov.pl/isap.nsf/download.xsp/WDU20190001065/O/D20191065.pdf\n",
    "**Dział III Rozdział 1 Paragraf 54**"
   ]
  },
  {
   "cell_type": "code",
   "execution_count": null,
   "id": "8afd6ef0-dadc-482c-bc75-ab0b348ab2f3",
   "metadata": {
    "tags": []
   },
   "outputs": [],
   "source": [
    "print(\"hasElevator NA ALL:\" + str(data_ALL[\"hasElevator\"].isna().sum()))"
   ]
  },
  {
   "cell_type": "markdown",
   "id": "a214f4b2-0733-4f76-87f1-5cb16f2bc134",
   "metadata": {},
   "source": [
    "Budynki mieszkalne mające więcej niż 4 piętra wymagają windy"
   ]
  },
  {
   "cell_type": "code",
   "execution_count": null,
   "id": "46492650-87b8-47c2-bf32-af7b2ab91c31",
   "metadata": {
    "tags": []
   },
   "outputs": [],
   "source": [
    "filt = (data_ALL[\"floorCount\"] > 4)\n",
    "new_val = data_ALL.loc[filt, [\"hasElevator\"]].fillna(\"yes\", axis=1)\n",
    "data_ALL.loc[filt, [\"hasElevator\"]] = new_val"
   ]
  },
  {
   "cell_type": "markdown",
   "id": "3747beec-e937-48f6-a6c5-15a4500d664d",
   "metadata": {},
   "source": [
    "W budynkach mających 4 lub mniej pięter parametr określający obecność windy ustawiany jest na wartość: \"nie\""
   ]
  },
  {
   "cell_type": "code",
   "execution_count": null,
   "id": "f62f2433-7d07-49a5-8635-7ce7b86144ce",
   "metadata": {
    "tags": []
   },
   "outputs": [],
   "source": [
    "filt = ((data_ALL[\"floorCount\"] <= 4) & (data_ALL[\"floorCount\"].notnull()))\n",
    "new_val = data_ALL.loc[filt, [\"hasElevator\"]].fillna(\"no\", axis=1)\n",
    "data_ALL.loc[filt, [\"hasElevator\"]] = new_val"
   ]
  },
  {
   "cell_type": "code",
   "execution_count": null,
   "id": "7146e20f-ce02-49f2-aecb-7f3bfd7291e2",
   "metadata": {},
   "outputs": [],
   "source": [
    "print(\"hasElevator NA ALL:\" + str(data_ALL[\"hasElevator\"].isna().sum()))"
   ]
  },
  {
   "cell_type": "markdown",
   "id": "c894c833-a453-40e0-99a8-0c9da371763a",
   "metadata": {},
   "source": [
    "## Ownership"
   ]
  },
  {
   "cell_type": "markdown",
   "id": "16fbf0cc-fad7-4873-8330-76f6ef56df17",
   "metadata": {},
   "source": [
    "### Wartość odstająca"
   ]
  },
  {
   "cell_type": "code",
   "execution_count": null,
   "id": "22b16bc6-2986-4e31-9d4d-5cb945a91dff",
   "metadata": {
    "tags": []
   },
   "outputs": [],
   "source": [
    "data_ALL[data_ALL[\"ownership\"] == \"udział\"]"
   ]
  },
  {
   "cell_type": "code",
   "execution_count": null,
   "id": "9943ef84-cf11-464f-9972-4f4fc6051555",
   "metadata": {
    "tags": []
   },
   "outputs": [],
   "source": [
    "data_ALL.drop(data_ALL[data_ALL[\"ownership\"] == \"udział\"].index, inplace=True)"
   ]
  },
  {
   "cell_type": "markdown",
   "id": "40b8f643-59a7-4b0b-a91d-0088cf4e226f",
   "metadata": {
    "tags": []
   },
   "source": [
    "Występuje tylko 1 rekord z wartością ownership=\"udział\" z tego powodu zostaje usunięty."
   ]
  },
  {
   "cell_type": "markdown",
   "id": "75ff03ca-79d9-4afa-9fcd-a05aa8746907",
   "metadata": {},
   "source": [
    "### One-hot encoding"
   ]
  },
  {
   "cell_type": "code",
   "execution_count": null,
   "id": "3d9293cd-6698-47cd-9b20-39ded461d616",
   "metadata": {
    "tags": []
   },
   "outputs": [],
   "source": [
    "data_ALL = pd.get_dummies(data_ALL, columns=[\"ownership\"], prefix=\"ownership\")"
   ]
  },
  {
   "cell_type": "markdown",
   "id": "38791663-4a28-499e-bb5c-f706e40c0237",
   "metadata": {
    "tags": []
   },
   "source": [
    "Ownership jest zmienną tekstową, dlatego zostaje zakodowana metodą one-hot."
   ]
  },
  {
   "cell_type": "markdown",
   "id": "fcf33868-73af-476b-9356-f2e3076c5af9",
   "metadata": {},
   "source": [
    "## City - one-hot encoding"
   ]
  },
  {
   "cell_type": "markdown",
   "id": "0a76bbc3-d756-4702-9c8d-01e411d5a98a",
   "metadata": {},
   "source": [
    "\"city\" jest zmienną teskstową kategoryczną o liczności 15. Z tego powodu zostanie zakodowana metodą one-hot."
   ]
  },
  {
   "cell_type": "code",
   "execution_count": null,
   "id": "d3f1cef1-4e5a-43a9-93fb-a9dbdbe4c7c2",
   "metadata": {
    "tags": []
   },
   "outputs": [],
   "source": [
    "data_ALL = pd.get_dummies(data_ALL, columns=[\"city\"], prefix=\"city\")\n",
    "data_ALL"
   ]
  },
  {
   "cell_type": "markdown",
   "id": "4671f0a5-8f72-47a5-a06d-65d0cbe3cfd5",
   "metadata": {},
   "source": [
    "## Konwersja zmiennych 2-wartościowych na typ boolean"
   ]
  },
  {
   "cell_type": "code",
   "execution_count": null,
   "id": "4bcba28f",
   "metadata": {},
   "outputs": [],
   "source": [
    "data_ALL.info()"
   ]
  },
  {
   "cell_type": "code",
   "execution_count": null,
   "id": "b114899c",
   "metadata": {},
   "outputs": [],
   "source": [
    "columns_to_convert = [\"hasParkingSpace\", \"hasBalcony\", \"hasElevator\", \"hasSecurity\", \"hasStorageRoom\"]"
   ]
  },
  {
   "cell_type": "code",
   "execution_count": null,
   "id": "feb1cdc0",
   "metadata": {},
   "outputs": [],
   "source": [
    "for i in columns_to_convert:\n",
    "    data_ALL[i] = data_ALL[i].map({'yes': 1, 'no': 0})"
   ]
  },
  {
   "cell_type": "code",
   "execution_count": null,
   "id": "b45c8fea",
   "metadata": {},
   "outputs": [],
   "source": [
    "data_ALL[columns_to_convert]"
   ]
  },
  {
   "cell_type": "code",
   "execution_count": null,
   "id": "6e2dd097",
   "metadata": {
    "tags": []
   },
   "outputs": [],
   "source": [
    "data_ALL.info()"
   ]
  },
  {
   "cell_type": "markdown",
   "id": "14dc7ab3",
   "metadata": {},
   "source": [
    "## Analiza odchyłek"
   ]
  },
  {
   "cell_type": "code",
   "execution_count": null,
   "id": "301adfa1",
   "metadata": {},
   "outputs": [],
   "source": [
    "cols_out = [\"squareMeters\", \"rooms\", \"floor\", \"floorCount\", \"buildYear\", \"latitude\", \"longitude\",\"centreDistance\",\"poiCount\"]"
   ]
  },
  {
   "cell_type": "code",
   "execution_count": null,
   "id": "4dbad07c",
   "metadata": {},
   "outputs": [],
   "source": [
    "data_ALL[cols_out].hist()"
   ]
  },
  {
   "cell_type": "code",
   "execution_count": null,
   "id": "d79b6adc",
   "metadata": {},
   "outputs": [],
   "source": [
    "data_ALL[cols_out].quantile([0, 0.25, 0.5, 0.75, 1.])"
   ]
  },
  {
   "cell_type": "markdown",
   "id": "def7da48",
   "metadata": {},
   "source": [
    "Odchyłki są wykrywane metodą IQR - za odchyłkę (outlayer) uznajemy rekord, którego wartość leży o półtora różnicy między 1. i 3. kwartylem powyżej 3. lub poniżej 1. kwartyla"
   ]
  },
  {
   "cell_type": "code",
   "execution_count": null,
   "id": "9caa6309",
   "metadata": {},
   "outputs": [],
   "source": [
    "iqr = {}\n",
    "for col in cols_out:\n",
    "    iqr[col] = (data_ALL[col].quantile(0.75) - data_ALL[col].quantile(0.25)) * 1.5\n",
    "    \n",
    "iqr"
   ]
  },
  {
   "cell_type": "code",
   "execution_count": null,
   "id": "2741b6b4",
   "metadata": {},
   "outputs": [],
   "source": [
    "data_ALL_clear = data_ALL\n",
    "for col in cols_out:\n",
    "    q1 = data_ALL[col].quantile(0.25)\n",
    "    q3 = data_ALL[col].quantile(0.75)\n",
    "    data_ALL_clear = data_ALL_clear.loc[(data_ALL_clear[col] >= q1 - iqr[col]) & (data_ALL_clear[col] <= q3 + iqr[col])]\n",
    "    \n",
    "data_ALL = data_ALL_clear\n",
    "data_ALL"
   ]
  },
  {
   "cell_type": "code",
   "execution_count": null,
   "id": "0caaf07e",
   "metadata": {},
   "outputs": [],
   "source": [
    "data_ALL[cols_out].hist()"
   ]
  },
  {
   "cell_type": "code",
   "execution_count": null,
   "id": "727a6197",
   "metadata": {},
   "outputs": [],
   "source": [
    "data_ALL[cols_out].quantile([0, 0.25, 0.5, 0.75, 1.])"
   ]
  },
  {
   "cell_type": "markdown",
   "id": "39668150",
   "metadata": {},
   "source": [
    "## Normalizacja kolumn numerycznych"
   ]
  },
  {
   "cell_type": "code",
   "execution_count": null,
   "id": "5149162c",
   "metadata": {},
   "outputs": [],
   "source": [
    "cols_to_norm = [\"squareMeters\", \"rooms\", \"floor\", \"floorCount\", \"buildYear\", \"latitude\", \"longitude\",\"centreDistance\",\"poiCount\"]"
   ]
  },
  {
   "cell_type": "code",
   "execution_count": null,
   "id": "e31ce2be",
   "metadata": {},
   "outputs": [],
   "source": [
    "for col in cols_to_norm:\n",
    "    mean = data_ALL[col].mean()\n",
    "    std = data_ALL[col].std()\n",
    "    data_ALL[col] = (data_ALL[col]-mean)/std"
   ]
  },
  {
   "cell_type": "code",
   "execution_count": null,
   "id": "85353641",
   "metadata": {},
   "outputs": [],
   "source": [
    "data_ALL[cols_to_norm]"
   ]
  },
  {
   "cell_type": "code",
   "execution_count": null,
   "id": "07910670",
   "metadata": {},
   "outputs": [],
   "source": []
  }
 ],
 "metadata": {
  "kernelspec": {
   "display_name": "Python 3 (ipykernel)",
   "language": "python",
   "name": "python3"
  },
  "language_info": {
   "codemirror_mode": {
    "name": "ipython",
    "version": 3
   },
   "file_extension": ".py",
   "mimetype": "text/x-python",
   "name": "python",
   "nbconvert_exporter": "python",
   "pygments_lexer": "ipython3",
   "version": "3.11.5"
  }
 },
 "nbformat": 4,
 "nbformat_minor": 5
}
