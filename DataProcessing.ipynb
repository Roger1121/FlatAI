{
 "cells": [
  {
   "cell_type": "markdown",
   "id": "d61fe73b",
   "metadata": {},
   "source": [
    "Skład grupy:\n",
    "    Paweł Awramiuk\n",
    "    Anna Chojnowska\n",
    "    Piotr Grusza\n",
    "    Szymon Leszczyński"
   ]
  },
  {
   "cell_type": "code",
   "execution_count": 1,
   "id": "231104f3",
   "metadata": {},
   "outputs": [],
   "source": [
    "## Polecenia do instalacji pakietów\n",
    "# conda install -c conda-forge tensorflow\n",
    "import tensorflow as tf\n",
    "import pandas as pd\n",
    "import numpy as np\n",
    "import matplotlib.pyplot as plt\n",
    "\n",
    "## Konfiguracje globalne\n",
    "# Formatowanie liczb w DataFrame\n",
    "pd.set_option('display.precision', 2)\n",
    "pd.set_option('display.float_format', '{:.2f}'.format)"
   ]
  },
  {
   "cell_type": "code",
   "execution_count": 2,
   "id": "0babf436",
   "metadata": {},
   "outputs": [],
   "source": [
    "data_AUG = pd.read_csv(\"apartments_pl_2023_08.csv\")\n",
    "data_SEP = pd.read_csv(\"apartments_pl_2023_09.csv\")\n",
    "data_OCT = pd.read_csv(\"apartments_pl_2023_10.csv\")"
   ]
  },
  {
   "cell_type": "code",
   "execution_count": 3,
   "id": "d65bf036",
   "metadata": {},
   "outputs": [],
   "source": [
    "data_AUG.drop(columns=[\"id\"], inplace=True)\n",
    "data_AUG.drop(columns=[\"schoolDistance\",\"clinicDistance\",\"postOfficeDistance\",\"kindergartenDistance\",\"restaurantDistance\",\"collegeDistance\",\"pharmacyDistance\"], inplace=True)\n",
    "data_AUG.drop(columns=[\"buildingMaterial\",\"condition\", \"type\"], inplace=True)\n",
    "\n",
    "data_SEP.drop(columns=[\"id\"], inplace=True)\n",
    "data_SEP.drop(columns=[\"schoolDistance\",\"clinicDistance\",\"postOfficeDistance\",\"kindergartenDistance\",\"restaurantDistance\",\"collegeDistance\",\"pharmacyDistance\"], inplace=True)\n",
    "data_SEP.drop(columns=[\"buildingMaterial\",\"condition\", \"type\"], inplace=True)\n",
    "\n",
    "data_OCT.drop(columns=[\"id\"], inplace=True)\n",
    "data_OCT.drop(columns=[\"schoolDistance\",\"clinicDistance\",\"postOfficeDistance\",\"kindergartenDistance\",\"restaurantDistance\",\"collegeDistance\",\"pharmacyDistance\"], inplace=True)\n",
    "data_OCT.drop(columns=[\"buildingMaterial\",\"condition\", \"type\"], inplace=True)\n",
    "\n",
    "\n",
    "data_SEP.drop_duplicates(inplace = True)\n",
    "data_AUG.drop_duplicates(inplace = True)\n",
    "data_OCT.drop_duplicates(inplace = True)"
   ]
  },
  {
   "cell_type": "markdown",
   "id": "94aca5f3",
   "metadata": {},
   "source": [
    "Na podstawie wcześniejszej analizy usuwamy kolumny: \"schoolDistance\",\"clinicDistance\",\"postOfficeDistance\",\"kindergartenDistance\",\"restaurantDistance\",\"collegeDistance\",\"pharmacyDistance\", gdyż są one silnie ze sobą skorelowane, a w danych występuje dodatkowa zależna od nich kolumna \"poiCount\". Usuwamy również kolumnę \"id\" zawierającą unikatowy identyfikator wiersza, oraz ze względu na wysoki procent braków w rekordach kolumny \"buildingMaterial\", \"condition\" oraz \"type\"."
   ]
  },
  {
   "cell_type": "code",
   "execution_count": 4,
   "id": "b77a5f64",
   "metadata": {},
   "outputs": [
    {
     "data": {
      "text/html": [
       "<div>\n",
       "<style scoped>\n",
       "    .dataframe tbody tr th:only-of-type {\n",
       "        vertical-align: middle;\n",
       "    }\n",
       "\n",
       "    .dataframe tbody tr th {\n",
       "        vertical-align: top;\n",
       "    }\n",
       "\n",
       "    .dataframe thead th {\n",
       "        text-align: right;\n",
       "    }\n",
       "</style>\n",
       "<table border=\"1\" class=\"dataframe\">\n",
       "  <thead>\n",
       "    <tr style=\"text-align: right;\">\n",
       "      <th></th>\n",
       "      <th>AUG</th>\n",
       "      <th>AUG %</th>\n",
       "      <th>SEP</th>\n",
       "      <th>SEP %</th>\n",
       "      <th>OCT</th>\n",
       "      <th>OCT %</th>\n",
       "    </tr>\n",
       "  </thead>\n",
       "  <tbody>\n",
       "    <tr>\n",
       "      <th>city</th>\n",
       "      <td>0</td>\n",
       "      <td>0.00</td>\n",
       "      <td>0</td>\n",
       "      <td>0.00</td>\n",
       "      <td>0</td>\n",
       "      <td>0.00</td>\n",
       "    </tr>\n",
       "    <tr>\n",
       "      <th>squareMeters</th>\n",
       "      <td>0</td>\n",
       "      <td>0.00</td>\n",
       "      <td>0</td>\n",
       "      <td>0.00</td>\n",
       "      <td>0</td>\n",
       "      <td>0.00</td>\n",
       "    </tr>\n",
       "    <tr>\n",
       "      <th>rooms</th>\n",
       "      <td>0</td>\n",
       "      <td>0.00</td>\n",
       "      <td>0</td>\n",
       "      <td>0.00</td>\n",
       "      <td>0</td>\n",
       "      <td>0.00</td>\n",
       "    </tr>\n",
       "    <tr>\n",
       "      <th>floor</th>\n",
       "      <td>3391</td>\n",
       "      <td>18.16</td>\n",
       "      <td>3000</td>\n",
       "      <td>17.86</td>\n",
       "      <td>3012</td>\n",
       "      <td>18.25</td>\n",
       "    </tr>\n",
       "    <tr>\n",
       "      <th>floorCount</th>\n",
       "      <td>259</td>\n",
       "      <td>1.39</td>\n",
       "      <td>243</td>\n",
       "      <td>1.45</td>\n",
       "      <td>242</td>\n",
       "      <td>1.47</td>\n",
       "    </tr>\n",
       "    <tr>\n",
       "      <th>buildYear</th>\n",
       "      <td>3220</td>\n",
       "      <td>17.24</td>\n",
       "      <td>2903</td>\n",
       "      <td>17.29</td>\n",
       "      <td>2878</td>\n",
       "      <td>17.43</td>\n",
       "    </tr>\n",
       "    <tr>\n",
       "      <th>latitude</th>\n",
       "      <td>0</td>\n",
       "      <td>0.00</td>\n",
       "      <td>0</td>\n",
       "      <td>0.00</td>\n",
       "      <td>0</td>\n",
       "      <td>0.00</td>\n",
       "    </tr>\n",
       "    <tr>\n",
       "      <th>longitude</th>\n",
       "      <td>0</td>\n",
       "      <td>0.00</td>\n",
       "      <td>0</td>\n",
       "      <td>0.00</td>\n",
       "      <td>0</td>\n",
       "      <td>0.00</td>\n",
       "    </tr>\n",
       "    <tr>\n",
       "      <th>centreDistance</th>\n",
       "      <td>0</td>\n",
       "      <td>0.00</td>\n",
       "      <td>0</td>\n",
       "      <td>0.00</td>\n",
       "      <td>0</td>\n",
       "      <td>0.00</td>\n",
       "    </tr>\n",
       "    <tr>\n",
       "      <th>poiCount</th>\n",
       "      <td>0</td>\n",
       "      <td>0.00</td>\n",
       "      <td>0</td>\n",
       "      <td>0.00</td>\n",
       "      <td>0</td>\n",
       "      <td>0.00</td>\n",
       "    </tr>\n",
       "    <tr>\n",
       "      <th>ownership</th>\n",
       "      <td>0</td>\n",
       "      <td>0.00</td>\n",
       "      <td>0</td>\n",
       "      <td>0.00</td>\n",
       "      <td>0</td>\n",
       "      <td>0.00</td>\n",
       "    </tr>\n",
       "    <tr>\n",
       "      <th>hasParkingSpace</th>\n",
       "      <td>0</td>\n",
       "      <td>0.00</td>\n",
       "      <td>0</td>\n",
       "      <td>0.00</td>\n",
       "      <td>0</td>\n",
       "      <td>0.00</td>\n",
       "    </tr>\n",
       "    <tr>\n",
       "      <th>hasBalcony</th>\n",
       "      <td>0</td>\n",
       "      <td>0.00</td>\n",
       "      <td>0</td>\n",
       "      <td>0.00</td>\n",
       "      <td>0</td>\n",
       "      <td>0.00</td>\n",
       "    </tr>\n",
       "    <tr>\n",
       "      <th>hasElevator</th>\n",
       "      <td>920</td>\n",
       "      <td>4.93</td>\n",
       "      <td>861</td>\n",
       "      <td>5.13</td>\n",
       "      <td>888</td>\n",
       "      <td>5.38</td>\n",
       "    </tr>\n",
       "    <tr>\n",
       "      <th>hasSecurity</th>\n",
       "      <td>0</td>\n",
       "      <td>0.00</td>\n",
       "      <td>0</td>\n",
       "      <td>0.00</td>\n",
       "      <td>0</td>\n",
       "      <td>0.00</td>\n",
       "    </tr>\n",
       "    <tr>\n",
       "      <th>hasStorageRoom</th>\n",
       "      <td>0</td>\n",
       "      <td>0.00</td>\n",
       "      <td>0</td>\n",
       "      <td>0.00</td>\n",
       "      <td>0</td>\n",
       "      <td>0.00</td>\n",
       "    </tr>\n",
       "    <tr>\n",
       "      <th>price</th>\n",
       "      <td>0</td>\n",
       "      <td>0.00</td>\n",
       "      <td>0</td>\n",
       "      <td>0.00</td>\n",
       "      <td>0</td>\n",
       "      <td>0.00</td>\n",
       "    </tr>\n",
       "  </tbody>\n",
       "</table>\n",
       "</div>"
      ],
      "text/plain": [
       "                  AUG  AUG %   SEP  SEP %   OCT  OCT %\n",
       "city                0   0.00     0   0.00     0   0.00\n",
       "squareMeters        0   0.00     0   0.00     0   0.00\n",
       "rooms               0   0.00     0   0.00     0   0.00\n",
       "floor            3391  18.16  3000  17.86  3012  18.25\n",
       "floorCount        259   1.39   243   1.45   242   1.47\n",
       "buildYear        3220  17.24  2903  17.29  2878  17.43\n",
       "latitude            0   0.00     0   0.00     0   0.00\n",
       "longitude           0   0.00     0   0.00     0   0.00\n",
       "centreDistance      0   0.00     0   0.00     0   0.00\n",
       "poiCount            0   0.00     0   0.00     0   0.00\n",
       "ownership           0   0.00     0   0.00     0   0.00\n",
       "hasParkingSpace     0   0.00     0   0.00     0   0.00\n",
       "hasBalcony          0   0.00     0   0.00     0   0.00\n",
       "hasElevator       920   4.93   861   5.13   888   5.38\n",
       "hasSecurity         0   0.00     0   0.00     0   0.00\n",
       "hasStorageRoom      0   0.00     0   0.00     0   0.00\n",
       "price               0   0.00     0   0.00     0   0.00"
      ]
     },
     "execution_count": 4,
     "metadata": {},
     "output_type": "execute_result"
    }
   ],
   "source": [
    "missing_values = pd.concat([\n",
    "        data_AUG.isna().sum(),\n",
    "        data_AUG.isna().sum() / len(data_AUG) * 100,\n",
    "        data_SEP.isna().sum(),\n",
    "        data_SEP.isna().sum() / len(data_SEP) * 100,\n",
    "        data_OCT.isna().sum(),\n",
    "        data_OCT.isna().sum() / len(data_OCT) * 100\n",
    "    ],\n",
    "    axis=1\n",
    ")\n",
    "missing_values.rename(columns = {0:'AUG', 1:'AUG %',2:'SEP', 3:'SEP %',4:'OCT', 5:'OCT %',6:'ALL', 7:'ALL %'}, inplace = True)\n",
    "missing_values"
   ]
  },
  {
   "cell_type": "code",
   "execution_count": 5,
   "id": "89b81449",
   "metadata": {},
   "outputs": [
    {
     "data": {
      "text/plain": [
       "<Axes: >"
      ]
     },
     "execution_count": 5,
     "metadata": {},
     "output_type": "execute_result"
    },
    {
     "data": {
      "image/png": "[encoded data removed]",
      "text/plain": [
       "<Figure size 640x480 with 1 Axes>"
      ]
     },
     "metadata": {},
     "output_type": "display_data"
    }
   ],
   "source": [
    "data_AUG.isna().sum(1).hist()"
   ]
  },
  {
   "cell_type": "code",
   "execution_count": 6,
   "id": "dab3ca58",
   "metadata": {},
   "outputs": [
    {
     "data": {
      "text/plain": [
       "<Axes: >"
      ]
     },
     "execution_count": 6,
     "metadata": {},
     "output_type": "execute_result"
    },
    {
     "data": {
      "image/png": "[encoded data removed]",
      "text/plain": [
       "<Figure size 640x480 with 1 Axes>"
      ]
     },
     "metadata": {},
     "output_type": "display_data"
    }
   ],
   "source": [
    "data_SEP.isna().sum(1).hist()"
   ]
  },
  {
   "cell_type": "code",
   "execution_count": 7,
   "id": "0ac53cfb",
   "metadata": {},
   "outputs": [
    {
     "data": {
      "text/plain": [
       "<Axes: >"
      ]
     },
     "execution_count": 7,
     "metadata": {},
     "output_type": "execute_result"
    },
    {
     "data": {
      "image/png": "[encoded data removed]",
      "text/plain": [
       "<Figure size 640x480 with 1 Axes>"
      ]
     },
     "metadata": {},
     "output_type": "display_data"
    }
   ],
   "source": [
    "data_OCT.isna().sum(1).hist()"
   ]
  },
  {
   "cell_type": "code",
   "execution_count": 8,
   "id": "4667237b",
   "metadata": {},
   "outputs": [],
   "source": [
    "data_AUG = data_AUG.loc[(data_AUG.isna().sum(axis=1)<3)]\n",
    "data_SEP = data_SEP.loc[(data_SEP.isna().sum(axis=1)<3)]\n",
    "data_OCT = data_OCT.loc[(data_OCT.isna().sum(axis=1)<3)]"
   ]
  },
  {
   "cell_type": "markdown",
   "id": "22d44871",
   "metadata": {},
   "source": [
    "Ze względu na niski odsetek rekordów posiadajacych więcej, niż dwa braki, oferty takie zostały usunięte, celem łatwiejszej obsługi braków w ofertach."
   ]
  },
  {
   "cell_type": "code",
   "execution_count": 9,
   "id": "bacecc28",
   "metadata": {},
   "outputs": [],
   "source": [
    "def show_missing_values(data):\n",
    "    missing_values = pd.concat([\n",
    "        data.isna().sum(),\n",
    "        data.isna().sum() / len(data) * 100\n",
    "    ],axis=1)\n",
    "    missing_values.rename(columns = {0:'MISSING', 1:'MISSING %'}, inplace = True)\n",
    "    print(missing_values)"
   ]
  },
  {
   "cell_type": "code",
   "execution_count": 10,
   "id": "9dae0c58",
   "metadata": {},
   "outputs": [
    {
     "data": {
      "text/html": [
       "<div>\n",
       "<style scoped>\n",
       "    .dataframe tbody tr th:only-of-type {\n",
       "        vertical-align: middle;\n",
       "    }\n",
       "\n",
       "    .dataframe tbody tr th {\n",
       "        vertical-align: top;\n",
       "    }\n",
       "\n",
       "    .dataframe thead th {\n",
       "        text-align: right;\n",
       "    }\n",
       "</style>\n",
       "<table border=\"1\" class=\"dataframe\">\n",
       "  <thead>\n",
       "    <tr style=\"text-align: right;\">\n",
       "      <th></th>\n",
       "      <th>AUG</th>\n",
       "      <th>AUG %</th>\n",
       "      <th>SEP</th>\n",
       "      <th>SEP %</th>\n",
       "      <th>OCT</th>\n",
       "      <th>OCT %</th>\n",
       "    </tr>\n",
       "  </thead>\n",
       "  <tbody>\n",
       "    <tr>\n",
       "      <th>city</th>\n",
       "      <td>0</td>\n",
       "      <td>0.00</td>\n",
       "      <td>0</td>\n",
       "      <td>0.00</td>\n",
       "      <td>0</td>\n",
       "      <td>0.00</td>\n",
       "    </tr>\n",
       "    <tr>\n",
       "      <th>squareMeters</th>\n",
       "      <td>0</td>\n",
       "      <td>0.00</td>\n",
       "      <td>0</td>\n",
       "      <td>0.00</td>\n",
       "      <td>0</td>\n",
       "      <td>0.00</td>\n",
       "    </tr>\n",
       "    <tr>\n",
       "      <th>rooms</th>\n",
       "      <td>0</td>\n",
       "      <td>0.00</td>\n",
       "      <td>0</td>\n",
       "      <td>0.00</td>\n",
       "      <td>0</td>\n",
       "      <td>0.00</td>\n",
       "    </tr>\n",
       "    <tr>\n",
       "      <th>floor</th>\n",
       "      <td>3160</td>\n",
       "      <td>17.13</td>\n",
       "      <td>2787</td>\n",
       "      <td>16.81</td>\n",
       "      <td>2793</td>\n",
       "      <td>17.15</td>\n",
       "    </tr>\n",
       "    <tr>\n",
       "      <th>floorCount</th>\n",
       "      <td>70</td>\n",
       "      <td>0.38</td>\n",
       "      <td>67</td>\n",
       "      <td>0.40</td>\n",
       "      <td>67</td>\n",
       "      <td>0.41</td>\n",
       "    </tr>\n",
       "    <tr>\n",
       "      <th>buildYear</th>\n",
       "      <td>3038</td>\n",
       "      <td>16.47</td>\n",
       "      <td>2738</td>\n",
       "      <td>16.51</td>\n",
       "      <td>2708</td>\n",
       "      <td>16.62</td>\n",
       "    </tr>\n",
       "    <tr>\n",
       "      <th>latitude</th>\n",
       "      <td>0</td>\n",
       "      <td>0.00</td>\n",
       "      <td>0</td>\n",
       "      <td>0.00</td>\n",
       "      <td>0</td>\n",
       "      <td>0.00</td>\n",
       "    </tr>\n",
       "    <tr>\n",
       "      <th>longitude</th>\n",
       "      <td>0</td>\n",
       "      <td>0.00</td>\n",
       "      <td>0</td>\n",
       "      <td>0.00</td>\n",
       "      <td>0</td>\n",
       "      <td>0.00</td>\n",
       "    </tr>\n",
       "    <tr>\n",
       "      <th>centreDistance</th>\n",
       "      <td>0</td>\n",
       "      <td>0.00</td>\n",
       "      <td>0</td>\n",
       "      <td>0.00</td>\n",
       "      <td>0</td>\n",
       "      <td>0.00</td>\n",
       "    </tr>\n",
       "    <tr>\n",
       "      <th>poiCount</th>\n",
       "      <td>0</td>\n",
       "      <td>0.00</td>\n",
       "      <td>0</td>\n",
       "      <td>0.00</td>\n",
       "      <td>0</td>\n",
       "      <td>0.00</td>\n",
       "    </tr>\n",
       "    <tr>\n",
       "      <th>ownership</th>\n",
       "      <td>0</td>\n",
       "      <td>0.00</td>\n",
       "      <td>0</td>\n",
       "      <td>0.00</td>\n",
       "      <td>0</td>\n",
       "      <td>0.00</td>\n",
       "    </tr>\n",
       "    <tr>\n",
       "      <th>hasParkingSpace</th>\n",
       "      <td>0</td>\n",
       "      <td>0.00</td>\n",
       "      <td>0</td>\n",
       "      <td>0.00</td>\n",
       "      <td>0</td>\n",
       "      <td>0.00</td>\n",
       "    </tr>\n",
       "    <tr>\n",
       "      <th>hasBalcony</th>\n",
       "      <td>0</td>\n",
       "      <td>0.00</td>\n",
       "      <td>0</td>\n",
       "      <td>0.00</td>\n",
       "      <td>0</td>\n",
       "      <td>0.00</td>\n",
       "    </tr>\n",
       "    <tr>\n",
       "      <th>hasElevator</th>\n",
       "      <td>753</td>\n",
       "      <td>4.08</td>\n",
       "      <td>708</td>\n",
       "      <td>4.27</td>\n",
       "      <td>720</td>\n",
       "      <td>4.42</td>\n",
       "    </tr>\n",
       "    <tr>\n",
       "      <th>hasSecurity</th>\n",
       "      <td>0</td>\n",
       "      <td>0.00</td>\n",
       "      <td>0</td>\n",
       "      <td>0.00</td>\n",
       "      <td>0</td>\n",
       "      <td>0.00</td>\n",
       "    </tr>\n",
       "    <tr>\n",
       "      <th>hasStorageRoom</th>\n",
       "      <td>0</td>\n",
       "      <td>0.00</td>\n",
       "      <td>0</td>\n",
       "      <td>0.00</td>\n",
       "      <td>0</td>\n",
       "      <td>0.00</td>\n",
       "    </tr>\n",
       "    <tr>\n",
       "      <th>price</th>\n",
       "      <td>0</td>\n",
       "      <td>0.00</td>\n",
       "      <td>0</td>\n",
       "      <td>0.00</td>\n",
       "      <td>0</td>\n",
       "      <td>0.00</td>\n",
       "    </tr>\n",
       "  </tbody>\n",
       "</table>\n",
       "</div>"
      ],
      "text/plain": [
       "                  AUG  AUG %   SEP  SEP %   OCT  OCT %\n",
       "city                0   0.00     0   0.00     0   0.00\n",
       "squareMeters        0   0.00     0   0.00     0   0.00\n",
       "rooms               0   0.00     0   0.00     0   0.00\n",
       "floor            3160  17.13  2787  16.81  2793  17.15\n",
       "floorCount         70   0.38    67   0.40    67   0.41\n",
       "buildYear        3038  16.47  2738  16.51  2708  16.62\n",
       "latitude            0   0.00     0   0.00     0   0.00\n",
       "longitude           0   0.00     0   0.00     0   0.00\n",
       "centreDistance      0   0.00     0   0.00     0   0.00\n",
       "poiCount            0   0.00     0   0.00     0   0.00\n",
       "ownership           0   0.00     0   0.00     0   0.00\n",
       "hasParkingSpace     0   0.00     0   0.00     0   0.00\n",
       "hasBalcony          0   0.00     0   0.00     0   0.00\n",
       "hasElevator       753   4.08   708   4.27   720   4.42\n",
       "hasSecurity         0   0.00     0   0.00     0   0.00\n",
       "hasStorageRoom      0   0.00     0   0.00     0   0.00\n",
       "price               0   0.00     0   0.00     0   0.00"
      ]
     },
     "execution_count": 10,
     "metadata": {},
     "output_type": "execute_result"
    }
   ],
   "source": [
    "missing_values = pd.concat([\n",
    "        data_AUG.isna().sum(),\n",
    "        data_AUG.isna().sum() / len(data_AUG) * 100,\n",
    "        data_SEP.isna().sum(),\n",
    "        data_SEP.isna().sum() / len(data_SEP) * 100,\n",
    "        data_OCT.isna().sum(),\n",
    "        data_OCT.isna().sum() / len(data_OCT) * 100\n",
    "    ],\n",
    "    axis=1\n",
    ")\n",
    "missing_values.rename(columns = {0:'AUG', 1:'AUG %',2:'SEP', 3:'SEP %',4:'OCT', 5:'OCT %',6:'ALL', 7:'ALL %'}, inplace = True)\n",
    "missing_values"
   ]
  },
  {
   "cell_type": "code",
   "execution_count": 11,
   "id": "04c03b51-b40f-4cc3-933f-7d633f51945e",
   "metadata": {
    "tags": []
   },
   "outputs": [],
   "source": [
    "import missingno as msno"
   ]
  },
  {
   "cell_type": "code",
   "execution_count": 12,
   "id": "db82263e-83eb-4132-b8b8-85582d6c41c2",
   "metadata": {
    "tags": []
   },
   "outputs": [
    {
     "data": {
      "text/plain": [
       "<Axes: >"
      ]
     },
     "execution_count": 12,
     "metadata": {},
     "output_type": "execute_result"
    },
    {
     "data": {
      "image/png": "[encoded data removed]",
      "text/plain": [
       "<Figure size 2000x1200 with 2 Axes>"
      ]
     },
     "metadata": {},
     "output_type": "display_data"
    }
   ],
   "source": [
    "msno.heatmap(data_AUG)"
   ]
  },
  {
   "cell_type": "code",
   "execution_count": 13,
   "id": "9e5bfe7b-054e-49d3-94b9-04ec51a3de43",
   "metadata": {},
   "outputs": [
    {
     "data": {
      "text/plain": [
       "<Axes: >"
      ]
     },
     "execution_count": 13,
     "metadata": {},
     "output_type": "execute_result"
    },
    {
     "data": {
      "image/png": "[encoded data removed]",
      "text/plain": [
       "<Figure size 2000x1200 with 2 Axes>"
      ]
     },
     "metadata": {},
     "output_type": "display_data"
    }
   ],
   "source": [
    "msno.heatmap(data_SEP)"
   ]
  },
  {
   "cell_type": "code",
   "execution_count": 14,
   "id": "e417986b-e2d5-4f16-98c6-f1d187f4fa09",
   "metadata": {
    "tags": []
   },
   "outputs": [
    {
     "data": {
      "text/plain": [
       "<Axes: >"
      ]
     },
     "execution_count": 14,
     "metadata": {},
     "output_type": "execute_result"
    },
    {
     "data": {
      "image/png": "[encoded data removed]",
      "text/plain": [
       "<Figure size 2000x1200 with 2 Axes>"
      ]
     },
     "metadata": {},
     "output_type": "display_data"
    }
   ],
   "source": [
    "msno.heatmap(data_OCT)"
   ]
  },
  {
   "cell_type": "markdown",
   "id": "b915b97b-5c0c-479c-862f-dd8fde788f17",
   "metadata": {
    "tags": []
   },
   "source": [
    "Powyższe wykresy wskazują na to, że nie występuje korelacja pomiędzy brakującymi danymi w poszczególnych miesiąca, co może oznaczać, że mamy do czynienia z brakami \"Missing at Random\"."
   ]
  },
  {
   "cell_type": "markdown",
   "id": "60cc0e38",
   "metadata": {},
   "source": [
    "## Przypisanie miesiąca do poszczególnych ofert na podstawie pliku, z którego pochodzą dane"
   ]
  },
  {
   "cell_type": "code",
   "execution_count": 15,
   "id": "65e7cc76",
   "metadata": {},
   "outputs": [],
   "source": [
    "# dodanie miesiąca, w którym dana oferta sprzedaży była dostępna (wszystkie dane pochodzą z roku 2023)\n",
    "data_AUG[\"offerMonth\"] = 8\n",
    "data_SEP[\"offerMonth\"] = 9\n",
    "data_OCT[\"offerMonth\"] = 10"
   ]
  },
  {
   "cell_type": "markdown",
   "id": "0259b563",
   "metadata": {},
   "source": [
    "Do każdej oferty dodajemy informację o miesiącu, z którego pochodzi, co po złączeniu plików da nam informację o trendach zmian cen w danym przedziale czasu."
   ]
  },
  {
   "cell_type": "markdown",
   "id": "425d3227-ad1e-490d-8213-b24a6f54ae5b",
   "metadata": {},
   "source": [
    "# Obsługa brakujących danych"
   ]
  },
  {
   "cell_type": "code",
   "execution_count": 16,
   "id": "dc93e8ef",
   "metadata": {},
   "outputs": [],
   "source": [
    "# TODO Wypełnienie braków (type, buildYear, floor, floorCount, hasElevator)\n",
    "# type, buildYear - raczej trudno uzupełnić, niska korelacja z ceną, usunąć kolumnę(?)\n",
    "# floorCount -> usunąć wiersze (?) to tylko kilkadziesiąt ofert, \n",
    "# hasElevator można ustawić na podstawie floorCount, powinno być dość zgodnie z rzeczywistością,\n",
    "# floor (?) może usunąć kolumnę, niemal zerowa korelacja z ceną, a i tak mamy sporo innych zmiennych"
   ]
  },
  {
   "cell_type": "markdown",
   "id": "88aef2fe-4701-4d72-8bf8-79795d6e9c3e",
   "metadata": {},
   "source": [
    "W przypadku brakujących danych, które zostaną uzupełnione wartościami średnimi lub medianą, operacje zostaną wykonane oddzielnie w obrębie poszczególnych miesięcy, aby uzupełnione oferty, były bardziej zbliżone do innych ofert wystawionych w podobnym czasie."
   ]
  },
  {
   "cell_type": "markdown",
   "id": "1e35fa1b-9175-4003-9b29-9abed4e586f4",
   "metadata": {},
   "source": [
    "Uzupełnienie danych w kolumnach, w których wartości zostaną uzupełnione na podstawie innych kolumn/wiedzy dziedzinowej zostanie wykonane po wcześniejszym połączeniu danych w jeden DataFrame."
   ]
  },
  {
   "cell_type": "markdown",
   "id": "47cf7c1f-0dae-4104-9e9b-9cee716a0603",
   "metadata": {},
   "source": [
    "## buildYear, floorCount, floor"
   ]
  },
  {
   "cell_type": "markdown",
   "id": "a269266b-435b-41ac-bf28-949d737f8daf",
   "metadata": {},
   "source": [
    "Braki w tych trzech zmiennych są uzupełniane medianą."
   ]
  },
  {
   "cell_type": "code",
   "execution_count": 17,
   "id": "e0ef9597-2e79-4733-8152-ba34ff30260f",
   "metadata": {
    "tags": []
   },
   "outputs": [],
   "source": [
    "data_AUG.fillna(data_AUG.median(numeric_only=True), inplace=True)\n",
    "data_SEP.fillna(data_SEP.median(numeric_only=True), inplace=True)\n",
    "data_OCT.fillna(data_OCT.median(numeric_only=True), inplace=True)"
   ]
  },
  {
   "cell_type": "code",
   "execution_count": 18,
   "id": "c134c2b8",
   "metadata": {},
   "outputs": [],
   "source": [
    "# TODO obsługa odchyłek (outliers)\n",
    "# z wykresów z analizy wygląda, że warto rozpatrzyć tutaj zmienne: \n",
    "# \"floor\", \"buildYear\", \"poiCount\""
   ]
  },
  {
   "cell_type": "code",
   "execution_count": 19,
   "id": "f1c59751",
   "metadata": {
    "tags": []
   },
   "outputs": [],
   "source": [
    "# TODO przystosowanie istniejących kolumn (np. one-hot encoding dla danych dyskretnych,. normalizacja danych ciągłych)"
   ]
  },
  {
   "cell_type": "markdown",
   "id": "70fefa7e-906f-4d79-a110-3e1f5c3cc63a",
   "metadata": {},
   "source": [
    "## Złączenie danych"
   ]
  },
  {
   "cell_type": "code",
   "execution_count": 20,
   "id": "798ee8a8",
   "metadata": {},
   "outputs": [],
   "source": [
    "data_ALL = pd.concat([data_AUG, data_SEP, data_OCT], ignore_index=True)"
   ]
  },
  {
   "cell_type": "code",
   "execution_count": 21,
   "id": "a61d7406",
   "metadata": {},
   "outputs": [
    {
     "data": {
      "text/html": [
       "<div>\n",
       "<style scoped>\n",
       "    .dataframe tbody tr th:only-of-type {\n",
       "        vertical-align: middle;\n",
       "    }\n",
       "\n",
       "    .dataframe tbody tr th {\n",
       "        vertical-align: top;\n",
       "    }\n",
       "\n",
       "    .dataframe thead th {\n",
       "        text-align: right;\n",
       "    }\n",
       "</style>\n",
       "<table border=\"1\" class=\"dataframe\">\n",
       "  <thead>\n",
       "    <tr style=\"text-align: right;\">\n",
       "      <th></th>\n",
       "      <th>city</th>\n",
       "      <th>squareMeters</th>\n",
       "      <th>rooms</th>\n",
       "      <th>floor</th>\n",
       "      <th>floorCount</th>\n",
       "      <th>buildYear</th>\n",
       "      <th>latitude</th>\n",
       "      <th>longitude</th>\n",
       "      <th>centreDistance</th>\n",
       "      <th>poiCount</th>\n",
       "      <th>ownership</th>\n",
       "      <th>hasParkingSpace</th>\n",
       "      <th>hasBalcony</th>\n",
       "      <th>hasElevator</th>\n",
       "      <th>hasSecurity</th>\n",
       "      <th>hasStorageRoom</th>\n",
       "      <th>price</th>\n",
       "      <th>offerMonth</th>\n",
       "    </tr>\n",
       "  </thead>\n",
       "  <tbody>\n",
       "    <tr>\n",
       "      <th>51310</th>\n",
       "      <td>bydgoszcz</td>\n",
       "      <td>50.12</td>\n",
       "      <td>2.00</td>\n",
       "      <td>1.00</td>\n",
       "      <td>1.00</td>\n",
       "      <td>1992.00</td>\n",
       "      <td>53.13</td>\n",
       "      <td>18.00</td>\n",
       "      <td>0.88</td>\n",
       "      <td>42.00</td>\n",
       "      <td>condominium</td>\n",
       "      <td>yes</td>\n",
       "      <td>no</td>\n",
       "      <td>no</td>\n",
       "      <td>no</td>\n",
       "      <td>no</td>\n",
       "      <td>360000</td>\n",
       "      <td>10</td>\n",
       "    </tr>\n",
       "    <tr>\n",
       "      <th>51311</th>\n",
       "      <td>bydgoszcz</td>\n",
       "      <td>100.00</td>\n",
       "      <td>4.00</td>\n",
       "      <td>3.00</td>\n",
       "      <td>4.00</td>\n",
       "      <td>1910.00</td>\n",
       "      <td>53.13</td>\n",
       "      <td>18.01</td>\n",
       "      <td>0.65</td>\n",
       "      <td>54.00</td>\n",
       "      <td>condominium</td>\n",
       "      <td>yes</td>\n",
       "      <td>yes</td>\n",
       "      <td>no</td>\n",
       "      <td>no</td>\n",
       "      <td>yes</td>\n",
       "      <td>590000</td>\n",
       "      <td>10</td>\n",
       "    </tr>\n",
       "    <tr>\n",
       "      <th>51312</th>\n",
       "      <td>bydgoszcz</td>\n",
       "      <td>59.10</td>\n",
       "      <td>2.00</td>\n",
       "      <td>1.00</td>\n",
       "      <td>1.00</td>\n",
       "      <td>1910.00</td>\n",
       "      <td>53.13</td>\n",
       "      <td>18.01</td>\n",
       "      <td>0.65</td>\n",
       "      <td>54.00</td>\n",
       "      <td>condominium</td>\n",
       "      <td>yes</td>\n",
       "      <td>no</td>\n",
       "      <td>no</td>\n",
       "      <td>no</td>\n",
       "      <td>yes</td>\n",
       "      <td>320000</td>\n",
       "      <td>10</td>\n",
       "    </tr>\n",
       "    <tr>\n",
       "      <th>51313</th>\n",
       "      <td>bydgoszcz</td>\n",
       "      <td>81.07</td>\n",
       "      <td>5.00</td>\n",
       "      <td>1.00</td>\n",
       "      <td>4.00</td>\n",
       "      <td>2019.00</td>\n",
       "      <td>53.12</td>\n",
       "      <td>17.96</td>\n",
       "      <td>3.04</td>\n",
       "      <td>9.00</td>\n",
       "      <td>condominium</td>\n",
       "      <td>no</td>\n",
       "      <td>yes</td>\n",
       "      <td>yes</td>\n",
       "      <td>no</td>\n",
       "      <td>no</td>\n",
       "      <td>679000</td>\n",
       "      <td>10</td>\n",
       "    </tr>\n",
       "    <tr>\n",
       "      <th>51314</th>\n",
       "      <td>bydgoszcz</td>\n",
       "      <td>133.16</td>\n",
       "      <td>4.00</td>\n",
       "      <td>3.00</td>\n",
       "      <td>3.00</td>\n",
       "      <td>1992.00</td>\n",
       "      <td>53.11</td>\n",
       "      <td>17.99</td>\n",
       "      <td>1.32</td>\n",
       "      <td>9.00</td>\n",
       "      <td>condominium</td>\n",
       "      <td>no</td>\n",
       "      <td>yes</td>\n",
       "      <td>no</td>\n",
       "      <td>no</td>\n",
       "      <td>yes</td>\n",
       "      <td>925000</td>\n",
       "      <td>10</td>\n",
       "    </tr>\n",
       "  </tbody>\n",
       "</table>\n",
       "</div>"
      ],
      "text/plain": [
       "            city  squareMeters  rooms  floor  floorCount  buildYear  latitude  \\\n",
       "51310  bydgoszcz         50.12   2.00   1.00        1.00    1992.00     53.13   \n",
       "51311  bydgoszcz        100.00   4.00   3.00        4.00    1910.00     53.13   \n",
       "51312  bydgoszcz         59.10   2.00   1.00        1.00    1910.00     53.13   \n",
       "51313  bydgoszcz         81.07   5.00   1.00        4.00    2019.00     53.12   \n",
       "51314  bydgoszcz        133.16   4.00   3.00        3.00    1992.00     53.11   \n",
       "\n",
       "       longitude  centreDistance  poiCount    ownership hasParkingSpace  \\\n",
       "51310      18.00            0.88     42.00  condominium             yes   \n",
       "51311      18.01            0.65     54.00  condominium             yes   \n",
       "51312      18.01            0.65     54.00  condominium             yes   \n",
       "51313      17.96            3.04      9.00  condominium              no   \n",
       "51314      17.99            1.32      9.00  condominium              no   \n",
       "\n",
       "      hasBalcony hasElevator hasSecurity hasStorageRoom   price  offerMonth  \n",
       "51310         no          no          no             no  360000          10  \n",
       "51311        yes          no          no            yes  590000          10  \n",
       "51312         no          no          no            yes  320000          10  \n",
       "51313        yes         yes          no             no  679000          10  \n",
       "51314        yes          no          no            yes  925000          10  "
      ]
     },
     "execution_count": 21,
     "metadata": {},
     "output_type": "execute_result"
    }
   ],
   "source": [
    "data_ALL.tail()"
   ]
  },
  {
   "cell_type": "code",
   "execution_count": 22,
   "id": "61ff00b1",
   "metadata": {},
   "outputs": [
    {
     "data": {
      "text/plain": [
       "city               51315\n",
       "squareMeters       51315\n",
       "rooms              51315\n",
       "floor              51315\n",
       "floorCount         51315\n",
       "buildYear          51315\n",
       "latitude           51315\n",
       "longitude          51315\n",
       "centreDistance     51315\n",
       "poiCount           51315\n",
       "ownership          51315\n",
       "hasParkingSpace    51315\n",
       "hasBalcony         51315\n",
       "hasElevator        49134\n",
       "hasSecurity        51315\n",
       "hasStorageRoom     51315\n",
       "price              51315\n",
       "offerMonth         51315\n",
       "dtype: int64"
      ]
     },
     "execution_count": 22,
     "metadata": {},
     "output_type": "execute_result"
    }
   ],
   "source": [
    "data_ALL.count()"
   ]
  },
  {
   "cell_type": "markdown",
   "id": "471a60b1-8846-4d82-bde5-617504d821db",
   "metadata": {},
   "source": [
    "## hasElevator"
   ]
  },
  {
   "cell_type": "markdown",
   "id": "11cc9055",
   "metadata": {},
   "source": [
    "https://isap.sejm.gov.pl/isap.nsf/download.xsp/WDU20190001065/O/D20191065.pdf\n",
    "**Dział III Rozdział 1 Paragraf 54**"
   ]
  },
  {
   "cell_type": "code",
   "execution_count": 23,
   "id": "8afd6ef0-dadc-482c-bc75-ab0b348ab2f3",
   "metadata": {
    "tags": []
   },
   "outputs": [
    {
     "name": "stdout",
     "output_type": "stream",
     "text": [
      "hasElevator NA ALL:2181\n"
     ]
    }
   ],
   "source": [
    "print(\"hasElevator NA ALL:\" + str(data_ALL[\"hasElevator\"].isna().sum()))"
   ]
  },
  {
   "cell_type": "markdown",
   "id": "a214f4b2-0733-4f76-87f1-5cb16f2bc134",
   "metadata": {},
   "source": [
    "Budynki mieszkalne mające więcej niż 4 piętra wymagają windy"
   ]
  },
  {
   "cell_type": "code",
   "execution_count": 24,
   "id": "46492650-87b8-47c2-bf32-af7b2ab91c31",
   "metadata": {
    "tags": []
   },
   "outputs": [],
   "source": [
    "filt = (data_ALL[\"floorCount\"] > 4)\n",
    "new_val = data_ALL.loc[filt, [\"hasElevator\"]].fillna(\"yes\", axis=1)\n",
    "data_ALL.loc[filt, [\"hasElevator\"]] = new_val"
   ]
  },
  {
   "cell_type": "markdown",
   "id": "3747beec-e937-48f6-a6c5-15a4500d664d",
   "metadata": {},
   "source": [
    "W budynkach mających 4 lub mniej pięter parametr określający obecność windy ustawiany jest na wartość: \"nie\""
   ]
  },
  {
   "cell_type": "code",
   "execution_count": 25,
   "id": "f62f2433-7d07-49a5-8635-7ce7b86144ce",
   "metadata": {
    "tags": []
   },
   "outputs": [],
   "source": [
    "filt = ((data_ALL[\"floorCount\"] <= 4) & (data_ALL[\"floorCount\"].notnull()))\n",
    "new_val = data_ALL.loc[filt, [\"hasElevator\"]].fillna(\"no\", axis=1)\n",
    "data_ALL.loc[filt, [\"hasElevator\"]] = new_val"
   ]
  },
  {
   "cell_type": "code",
   "execution_count": 26,
   "id": "7146e20f-ce02-49f2-aecb-7f3bfd7291e2",
   "metadata": {},
   "outputs": [
    {
     "name": "stdout",
     "output_type": "stream",
     "text": [
      "hasElevator NA ALL:0\n"
     ]
    }
   ],
   "source": [
    "print(\"hasElevator NA ALL:\" + str(data_ALL[\"hasElevator\"].isna().sum()))"
   ]
  },
  {
   "cell_type": "markdown",
   "id": "c894c833-a453-40e0-99a8-0c9da371763a",
   "metadata": {},
   "source": [
    "## Ownership"
   ]
  },
  {
   "cell_type": "markdown",
   "id": "16fbf0cc-fad7-4873-8330-76f6ef56df17",
   "metadata": {},
   "source": [
    "### Wartość odstająca"
   ]
  },
  {
   "cell_type": "code",
   "execution_count": 27,
   "id": "22b16bc6-2986-4e31-9d4d-5cb945a91dff",
   "metadata": {
    "tags": []
   },
   "outputs": [
    {
     "data": {
      "text/html": [
       "<div>\n",
       "<style scoped>\n",
       "    .dataframe tbody tr th:only-of-type {\n",
       "        vertical-align: middle;\n",
       "    }\n",
       "\n",
       "    .dataframe tbody tr th {\n",
       "        vertical-align: top;\n",
       "    }\n",
       "\n",
       "    .dataframe thead th {\n",
       "        text-align: right;\n",
       "    }\n",
       "</style>\n",
       "<table border=\"1\" class=\"dataframe\">\n",
       "  <thead>\n",
       "    <tr style=\"text-align: right;\">\n",
       "      <th></th>\n",
       "      <th>city</th>\n",
       "      <th>squareMeters</th>\n",
       "      <th>rooms</th>\n",
       "      <th>floor</th>\n",
       "      <th>floorCount</th>\n",
       "      <th>buildYear</th>\n",
       "      <th>latitude</th>\n",
       "      <th>longitude</th>\n",
       "      <th>centreDistance</th>\n",
       "      <th>poiCount</th>\n",
       "      <th>ownership</th>\n",
       "      <th>hasParkingSpace</th>\n",
       "      <th>hasBalcony</th>\n",
       "      <th>hasElevator</th>\n",
       "      <th>hasSecurity</th>\n",
       "      <th>hasStorageRoom</th>\n",
       "      <th>price</th>\n",
       "      <th>offerMonth</th>\n",
       "    </tr>\n",
       "  </thead>\n",
       "  <tbody>\n",
       "    <tr>\n",
       "      <th>36216</th>\n",
       "      <td>krakow</td>\n",
       "      <td>42.00</td>\n",
       "      <td>2.00</td>\n",
       "      <td>2.00</td>\n",
       "      <td>3.00</td>\n",
       "      <td>1920.00</td>\n",
       "      <td>50.05</td>\n",
       "      <td>19.95</td>\n",
       "      <td>1.11</td>\n",
       "      <td>59.00</td>\n",
       "      <td>udział</td>\n",
       "      <td>no</td>\n",
       "      <td>yes</td>\n",
       "      <td>no</td>\n",
       "      <td>no</td>\n",
       "      <td>no</td>\n",
       "      <td>745000</td>\n",
       "      <td>10</td>\n",
       "    </tr>\n",
       "  </tbody>\n",
       "</table>\n",
       "</div>"
      ],
      "text/plain": [
       "         city  squareMeters  rooms  floor  floorCount  buildYear  latitude  \\\n",
       "36216  krakow         42.00   2.00   2.00        3.00    1920.00     50.05   \n",
       "\n",
       "       longitude  centreDistance  poiCount ownership hasParkingSpace  \\\n",
       "36216      19.95            1.11     59.00    udział              no   \n",
       "\n",
       "      hasBalcony hasElevator hasSecurity hasStorageRoom   price  offerMonth  \n",
       "36216        yes          no          no             no  745000          10  "
      ]
     },
     "execution_count": 27,
     "metadata": {},
     "output_type": "execute_result"
    }
   ],
   "source": [
    "data_ALL[data_ALL[\"ownership\"] == \"udział\"]"
   ]
  },
  {
   "cell_type": "code",
   "execution_count": 28,
   "id": "9943ef84-cf11-464f-9972-4f4fc6051555",
   "metadata": {
    "tags": []
   },
   "outputs": [],
   "source": [
    "data_ALL.drop(data_ALL[data_ALL[\"ownership\"] == \"udział\"].index, inplace=True)"
   ]
  },
  {
   "cell_type": "markdown",
   "id": "40b8f643-59a7-4b0b-a91d-0088cf4e226f",
   "metadata": {
    "tags": []
   },
   "source": [
    "Występuje tylko 1 rekord z wartością ownership=\"udział\" z tego powodu zostaje usunięty."
   ]
  },
  {
   "cell_type": "markdown",
   "id": "75ff03ca-79d9-4afa-9fcd-a05aa8746907",
   "metadata": {},
   "source": [
    "### One-hot encoding"
   ]
  },
  {
   "cell_type": "code",
   "execution_count": 29,
   "id": "3d9293cd-6698-47cd-9b20-39ded461d616",
   "metadata": {
    "tags": []
   },
   "outputs": [],
   "source": [
    "data_ALL = pd.get_dummies(data_ALL, columns=[\"ownership\"], prefix=\"ownership\")"
   ]
  },
  {
   "cell_type": "markdown",
   "id": "38791663-4a28-499e-bb5c-f706e40c0237",
   "metadata": {
    "tags": []
   },
   "source": [
    "Ownership jest zmienną tekstową, dlatego zostaje zakodowana metodą one-hot."
   ]
  },
  {
   "cell_type": "markdown",
   "id": "fcf33868-73af-476b-9356-f2e3076c5af9",
   "metadata": {},
   "source": [
    "## City - one-hot encoding"
   ]
  },
  {
   "cell_type": "markdown",
   "id": "0a76bbc3-d756-4702-9c8d-01e411d5a98a",
   "metadata": {},
   "source": [
    "\"city\" jest zmienną teskstową kategoryczną o liczności 15. Z tego powodu zostanie zakodowana metodą one-hot."
   ]
  },
  {
   "cell_type": "code",
   "execution_count": 30,
   "id": "d3f1cef1-4e5a-43a9-93fb-a9dbdbe4c7c2",
   "metadata": {
    "tags": []
   },
   "outputs": [
    {
     "data": {
      "text/html": [
       "<div>\n",
       "<style scoped>\n",
       "    .dataframe tbody tr th:only-of-type {\n",
       "        vertical-align: middle;\n",
       "    }\n",
       "\n",
       "    .dataframe tbody tr th {\n",
       "        vertical-align: top;\n",
       "    }\n",
       "\n",
       "    .dataframe thead th {\n",
       "        text-align: right;\n",
       "    }\n",
       "</style>\n",
       "<table border=\"1\" class=\"dataframe\">\n",
       "  <thead>\n",
       "    <tr style=\"text-align: right;\">\n",
       "      <th></th>\n",
       "      <th>squareMeters</th>\n",
       "      <th>rooms</th>\n",
       "      <th>floor</th>\n",
       "      <th>floorCount</th>\n",
       "      <th>buildYear</th>\n",
       "      <th>latitude</th>\n",
       "      <th>longitude</th>\n",
       "      <th>centreDistance</th>\n",
       "      <th>poiCount</th>\n",
       "      <th>hasParkingSpace</th>\n",
       "      <th>...</th>\n",
       "      <th>city_katowice</th>\n",
       "      <th>city_krakow</th>\n",
       "      <th>city_lodz</th>\n",
       "      <th>city_lublin</th>\n",
       "      <th>city_poznan</th>\n",
       "      <th>city_radom</th>\n",
       "      <th>city_rzeszow</th>\n",
       "      <th>city_szczecin</th>\n",
       "      <th>city_warszawa</th>\n",
       "      <th>city_wroclaw</th>\n",
       "    </tr>\n",
       "  </thead>\n",
       "  <tbody>\n",
       "    <tr>\n",
       "      <th>0</th>\n",
       "      <td>63.00</td>\n",
       "      <td>3.00</td>\n",
       "      <td>4.00</td>\n",
       "      <td>10.00</td>\n",
       "      <td>1980.00</td>\n",
       "      <td>53.38</td>\n",
       "      <td>14.63</td>\n",
       "      <td>6.53</td>\n",
       "      <td>9.00</td>\n",
       "      <td>yes</td>\n",
       "      <td>...</td>\n",
       "      <td>0</td>\n",
       "      <td>0</td>\n",
       "      <td>0</td>\n",
       "      <td>0</td>\n",
       "      <td>0</td>\n",
       "      <td>0</td>\n",
       "      <td>0</td>\n",
       "      <td>1</td>\n",
       "      <td>0</td>\n",
       "      <td>0</td>\n",
       "    </tr>\n",
       "    <tr>\n",
       "      <th>1</th>\n",
       "      <td>36.00</td>\n",
       "      <td>2.00</td>\n",
       "      <td>8.00</td>\n",
       "      <td>10.00</td>\n",
       "      <td>1990.00</td>\n",
       "      <td>53.44</td>\n",
       "      <td>14.56</td>\n",
       "      <td>2.15</td>\n",
       "      <td>16.00</td>\n",
       "      <td>no</td>\n",
       "      <td>...</td>\n",
       "      <td>0</td>\n",
       "      <td>0</td>\n",
       "      <td>0</td>\n",
       "      <td>0</td>\n",
       "      <td>0</td>\n",
       "      <td>0</td>\n",
       "      <td>0</td>\n",
       "      <td>1</td>\n",
       "      <td>0</td>\n",
       "      <td>0</td>\n",
       "    </tr>\n",
       "    <tr>\n",
       "      <th>2</th>\n",
       "      <td>73.02</td>\n",
       "      <td>3.00</td>\n",
       "      <td>2.00</td>\n",
       "      <td>3.00</td>\n",
       "      <td>1990.00</td>\n",
       "      <td>53.45</td>\n",
       "      <td>14.55</td>\n",
       "      <td>3.24</td>\n",
       "      <td>9.00</td>\n",
       "      <td>no</td>\n",
       "      <td>...</td>\n",
       "      <td>0</td>\n",
       "      <td>0</td>\n",
       "      <td>0</td>\n",
       "      <td>0</td>\n",
       "      <td>0</td>\n",
       "      <td>0</td>\n",
       "      <td>0</td>\n",
       "      <td>1</td>\n",
       "      <td>0</td>\n",
       "      <td>0</td>\n",
       "    </tr>\n",
       "    <tr>\n",
       "      <th>3</th>\n",
       "      <td>87.60</td>\n",
       "      <td>3.00</td>\n",
       "      <td>2.00</td>\n",
       "      <td>3.00</td>\n",
       "      <td>1990.00</td>\n",
       "      <td>53.44</td>\n",
       "      <td>14.53</td>\n",
       "      <td>2.27</td>\n",
       "      <td>32.00</td>\n",
       "      <td>yes</td>\n",
       "      <td>...</td>\n",
       "      <td>0</td>\n",
       "      <td>0</td>\n",
       "      <td>0</td>\n",
       "      <td>0</td>\n",
       "      <td>0</td>\n",
       "      <td>0</td>\n",
       "      <td>0</td>\n",
       "      <td>1</td>\n",
       "      <td>0</td>\n",
       "      <td>0</td>\n",
       "    </tr>\n",
       "    <tr>\n",
       "      <th>4</th>\n",
       "      <td>66.00</td>\n",
       "      <td>3.00</td>\n",
       "      <td>1.00</td>\n",
       "      <td>3.00</td>\n",
       "      <td>1990.00</td>\n",
       "      <td>53.41</td>\n",
       "      <td>14.50</td>\n",
       "      <td>4.07</td>\n",
       "      <td>1.00</td>\n",
       "      <td>no</td>\n",
       "      <td>...</td>\n",
       "      <td>0</td>\n",
       "      <td>0</td>\n",
       "      <td>0</td>\n",
       "      <td>0</td>\n",
       "      <td>0</td>\n",
       "      <td>0</td>\n",
       "      <td>0</td>\n",
       "      <td>1</td>\n",
       "      <td>0</td>\n",
       "      <td>0</td>\n",
       "    </tr>\n",
       "    <tr>\n",
       "      <th>...</th>\n",
       "      <td>...</td>\n",
       "      <td>...</td>\n",
       "      <td>...</td>\n",
       "      <td>...</td>\n",
       "      <td>...</td>\n",
       "      <td>...</td>\n",
       "      <td>...</td>\n",
       "      <td>...</td>\n",
       "      <td>...</td>\n",
       "      <td>...</td>\n",
       "      <td>...</td>\n",
       "      <td>...</td>\n",
       "      <td>...</td>\n",
       "      <td>...</td>\n",
       "      <td>...</td>\n",
       "      <td>...</td>\n",
       "      <td>...</td>\n",
       "      <td>...</td>\n",
       "      <td>...</td>\n",
       "      <td>...</td>\n",
       "      <td>...</td>\n",
       "    </tr>\n",
       "    <tr>\n",
       "      <th>51310</th>\n",
       "      <td>50.12</td>\n",
       "      <td>2.00</td>\n",
       "      <td>1.00</td>\n",
       "      <td>1.00</td>\n",
       "      <td>1992.00</td>\n",
       "      <td>53.13</td>\n",
       "      <td>18.00</td>\n",
       "      <td>0.88</td>\n",
       "      <td>42.00</td>\n",
       "      <td>yes</td>\n",
       "      <td>...</td>\n",
       "      <td>0</td>\n",
       "      <td>0</td>\n",
       "      <td>0</td>\n",
       "      <td>0</td>\n",
       "      <td>0</td>\n",
       "      <td>0</td>\n",
       "      <td>0</td>\n",
       "      <td>0</td>\n",
       "      <td>0</td>\n",
       "      <td>0</td>\n",
       "    </tr>\n",
       "    <tr>\n",
       "      <th>51311</th>\n",
       "      <td>100.00</td>\n",
       "      <td>4.00</td>\n",
       "      <td>3.00</td>\n",
       "      <td>4.00</td>\n",
       "      <td>1910.00</td>\n",
       "      <td>53.13</td>\n",
       "      <td>18.01</td>\n",
       "      <td>0.65</td>\n",
       "      <td>54.00</td>\n",
       "      <td>yes</td>\n",
       "      <td>...</td>\n",
       "      <td>0</td>\n",
       "      <td>0</td>\n",
       "      <td>0</td>\n",
       "      <td>0</td>\n",
       "      <td>0</td>\n",
       "      <td>0</td>\n",
       "      <td>0</td>\n",
       "      <td>0</td>\n",
       "      <td>0</td>\n",
       "      <td>0</td>\n",
       "    </tr>\n",
       "    <tr>\n",
       "      <th>51312</th>\n",
       "      <td>59.10</td>\n",
       "      <td>2.00</td>\n",
       "      <td>1.00</td>\n",
       "      <td>1.00</td>\n",
       "      <td>1910.00</td>\n",
       "      <td>53.13</td>\n",
       "      <td>18.01</td>\n",
       "      <td>0.65</td>\n",
       "      <td>54.00</td>\n",
       "      <td>yes</td>\n",
       "      <td>...</td>\n",
       "      <td>0</td>\n",
       "      <td>0</td>\n",
       "      <td>0</td>\n",
       "      <td>0</td>\n",
       "      <td>0</td>\n",
       "      <td>0</td>\n",
       "      <td>0</td>\n",
       "      <td>0</td>\n",
       "      <td>0</td>\n",
       "      <td>0</td>\n",
       "    </tr>\n",
       "    <tr>\n",
       "      <th>51313</th>\n",
       "      <td>81.07</td>\n",
       "      <td>5.00</td>\n",
       "      <td>1.00</td>\n",
       "      <td>4.00</td>\n",
       "      <td>2019.00</td>\n",
       "      <td>53.12</td>\n",
       "      <td>17.96</td>\n",
       "      <td>3.04</td>\n",
       "      <td>9.00</td>\n",
       "      <td>no</td>\n",
       "      <td>...</td>\n",
       "      <td>0</td>\n",
       "      <td>0</td>\n",
       "      <td>0</td>\n",
       "      <td>0</td>\n",
       "      <td>0</td>\n",
       "      <td>0</td>\n",
       "      <td>0</td>\n",
       "      <td>0</td>\n",
       "      <td>0</td>\n",
       "      <td>0</td>\n",
       "    </tr>\n",
       "    <tr>\n",
       "      <th>51314</th>\n",
       "      <td>133.16</td>\n",
       "      <td>4.00</td>\n",
       "      <td>3.00</td>\n",
       "      <td>3.00</td>\n",
       "      <td>1992.00</td>\n",
       "      <td>53.11</td>\n",
       "      <td>17.99</td>\n",
       "      <td>1.32</td>\n",
       "      <td>9.00</td>\n",
       "      <td>no</td>\n",
       "      <td>...</td>\n",
       "      <td>0</td>\n",
       "      <td>0</td>\n",
       "      <td>0</td>\n",
       "      <td>0</td>\n",
       "      <td>0</td>\n",
       "      <td>0</td>\n",
       "      <td>0</td>\n",
       "      <td>0</td>\n",
       "      <td>0</td>\n",
       "      <td>0</td>\n",
       "    </tr>\n",
       "  </tbody>\n",
       "</table>\n",
       "<p>51314 rows × 33 columns</p>\n",
       "</div>"
      ],
      "text/plain": [
       "       squareMeters  rooms  floor  floorCount  buildYear  latitude  longitude  \\\n",
       "0             63.00   3.00   4.00       10.00    1980.00     53.38      14.63   \n",
       "1             36.00   2.00   8.00       10.00    1990.00     53.44      14.56   \n",
       "2             73.02   3.00   2.00        3.00    1990.00     53.45      14.55   \n",
       "3             87.60   3.00   2.00        3.00    1990.00     53.44      14.53   \n",
       "4             66.00   3.00   1.00        3.00    1990.00     53.41      14.50   \n",
       "...             ...    ...    ...         ...        ...       ...        ...   \n",
       "51310         50.12   2.00   1.00        1.00    1992.00     53.13      18.00   \n",
       "51311        100.00   4.00   3.00        4.00    1910.00     53.13      18.01   \n",
       "51312         59.10   2.00   1.00        1.00    1910.00     53.13      18.01   \n",
       "51313         81.07   5.00   1.00        4.00    2019.00     53.12      17.96   \n",
       "51314        133.16   4.00   3.00        3.00    1992.00     53.11      17.99   \n",
       "\n",
       "       centreDistance  poiCount hasParkingSpace  ... city_katowice  \\\n",
       "0                6.53      9.00             yes  ...             0   \n",
       "1                2.15     16.00              no  ...             0   \n",
       "2                3.24      9.00              no  ...             0   \n",
       "3                2.27     32.00             yes  ...             0   \n",
       "4                4.07      1.00              no  ...             0   \n",
       "...               ...       ...             ...  ...           ...   \n",
       "51310            0.88     42.00             yes  ...             0   \n",
       "51311            0.65     54.00             yes  ...             0   \n",
       "51312            0.65     54.00             yes  ...             0   \n",
       "51313            3.04      9.00              no  ...             0   \n",
       "51314            1.32      9.00              no  ...             0   \n",
       "\n",
       "      city_krakow city_lodz city_lublin  city_poznan  city_radom  \\\n",
       "0               0         0           0            0           0   \n",
       "1               0         0           0            0           0   \n",
       "2               0         0           0            0           0   \n",
       "3               0         0           0            0           0   \n",
       "4               0         0           0            0           0   \n",
       "...           ...       ...         ...          ...         ...   \n",
       "51310           0         0           0            0           0   \n",
       "51311           0         0           0            0           0   \n",
       "51312           0         0           0            0           0   \n",
       "51313           0         0           0            0           0   \n",
       "51314           0         0           0            0           0   \n",
       "\n",
       "       city_rzeszow  city_szczecin  city_warszawa  city_wroclaw  \n",
       "0                 0              1              0             0  \n",
       "1                 0              1              0             0  \n",
       "2                 0              1              0             0  \n",
       "3                 0              1              0             0  \n",
       "4                 0              1              0             0  \n",
       "...             ...            ...            ...           ...  \n",
       "51310             0              0              0             0  \n",
       "51311             0              0              0             0  \n",
       "51312             0              0              0             0  \n",
       "51313             0              0              0             0  \n",
       "51314             0              0              0             0  \n",
       "\n",
       "[51314 rows x 33 columns]"
      ]
     },
     "execution_count": 30,
     "metadata": {},
     "output_type": "execute_result"
    }
   ],
   "source": [
    "data_ALL = pd.get_dummies(data_ALL, columns=[\"city\"], prefix=\"city\")\n",
    "data_ALL"
   ]
  },
  {
   "cell_type": "markdown",
   "id": "4671f0a5-8f72-47a5-a06d-65d0cbe3cfd5",
   "metadata": {},
   "source": [
    "## Konwersja zmiennych 2-wartościowych na typ boolean"
   ]
  },
  {
   "cell_type": "code",
   "execution_count": 31,
   "id": "4bcba28f",
   "metadata": {},
   "outputs": [
    {
     "name": "stdout",
     "output_type": "stream",
     "text": [
      "<class 'pandas.core.frame.DataFrame'>\n",
      "Int64Index: 51314 entries, 0 to 51314\n",
      "Data columns (total 33 columns):\n",
      " #   Column                 Non-Null Count  Dtype  \n",
      "---  ------                 --------------  -----  \n",
      " 0   squareMeters           51314 non-null  float64\n",
      " 1   rooms                  51314 non-null  float64\n",
      " 2   floor                  51314 non-null  float64\n",
      " 3   floorCount             51314 non-null  float64\n",
      " 4   buildYear              51314 non-null  float64\n",
      " 5   latitude               51314 non-null  float64\n",
      " 6   longitude              51314 non-null  float64\n",
      " 7   centreDistance         51314 non-null  float64\n",
      " 8   poiCount               51314 non-null  float64\n",
      " 9   hasParkingSpace        51314 non-null  object \n",
      " 10  hasBalcony             51314 non-null  object \n",
      " 11  hasElevator            51314 non-null  object \n",
      " 12  hasSecurity            51314 non-null  object \n",
      " 13  hasStorageRoom         51314 non-null  object \n",
      " 14  price                  51314 non-null  int64  \n",
      " 15  offerMonth             51314 non-null  int64  \n",
      " 16  ownership_condominium  51314 non-null  uint8  \n",
      " 17  ownership_cooperative  51314 non-null  uint8  \n",
      " 18  city_bialystok         51314 non-null  uint8  \n",
      " 19  city_bydgoszcz         51314 non-null  uint8  \n",
      " 20  city_czestochowa       51314 non-null  uint8  \n",
      " 21  city_gdansk            51314 non-null  uint8  \n",
      " 22  city_gdynia            51314 non-null  uint8  \n",
      " 23  city_katowice          51314 non-null  uint8  \n",
      " 24  city_krakow            51314 non-null  uint8  \n",
      " 25  city_lodz              51314 non-null  uint8  \n",
      " 26  city_lublin            51314 non-null  uint8  \n",
      " 27  city_poznan            51314 non-null  uint8  \n",
      " 28  city_radom             51314 non-null  uint8  \n",
      " 29  city_rzeszow           51314 non-null  uint8  \n",
      " 30  city_szczecin          51314 non-null  uint8  \n",
      " 31  city_warszawa          51314 non-null  uint8  \n",
      " 32  city_wroclaw           51314 non-null  uint8  \n",
      "dtypes: float64(9), int64(2), object(5), uint8(17)\n",
      "memory usage: 7.5+ MB\n"
     ]
    }
   ],
   "source": [
    "data_ALL.info()"
   ]
  },
  {
   "cell_type": "code",
   "execution_count": 32,
   "id": "b114899c",
   "metadata": {},
   "outputs": [],
   "source": [
    "columns_to_convert = [\"hasParkingSpace\", \"hasBalcony\", \"hasElevator\", \"hasSecurity\", \"hasStorageRoom\"]"
   ]
  },
  {
   "cell_type": "code",
   "execution_count": 33,
   "id": "feb1cdc0",
   "metadata": {},
   "outputs": [],
   "source": [
    "for i in columns_to_convert:\n",
    "    data_ALL[i] = data_ALL[i].map({'yes': 1, 'no': 0})"
   ]
  },
  {
   "cell_type": "code",
   "execution_count": 34,
   "id": "b45c8fea",
   "metadata": {},
   "outputs": [
    {
     "data": {
      "text/html": [
       "<div>\n",
       "<style scoped>\n",
       "    .dataframe tbody tr th:only-of-type {\n",
       "        vertical-align: middle;\n",
       "    }\n",
       "\n",
       "    .dataframe tbody tr th {\n",
       "        vertical-align: top;\n",
       "    }\n",
       "\n",
       "    .dataframe thead th {\n",
       "        text-align: right;\n",
       "    }\n",
       "</style>\n",
       "<table border=\"1\" class=\"dataframe\">\n",
       "  <thead>\n",
       "    <tr style=\"text-align: right;\">\n",
       "      <th></th>\n",
       "      <th>hasParkingSpace</th>\n",
       "      <th>hasBalcony</th>\n",
       "      <th>hasElevator</th>\n",
       "      <th>hasSecurity</th>\n",
       "      <th>hasStorageRoom</th>\n",
       "    </tr>\n",
       "  </thead>\n",
       "  <tbody>\n",
       "    <tr>\n",
       "      <th>0</th>\n",
       "      <td>1</td>\n",
       "      <td>1</td>\n",
       "      <td>1</td>\n",
       "      <td>0</td>\n",
       "      <td>1</td>\n",
       "    </tr>\n",
       "    <tr>\n",
       "      <th>1</th>\n",
       "      <td>0</td>\n",
       "      <td>1</td>\n",
       "      <td>1</td>\n",
       "      <td>0</td>\n",
       "      <td>1</td>\n",
       "    </tr>\n",
       "    <tr>\n",
       "      <th>2</th>\n",
       "      <td>0</td>\n",
       "      <td>0</td>\n",
       "      <td>0</td>\n",
       "      <td>0</td>\n",
       "      <td>0</td>\n",
       "    </tr>\n",
       "    <tr>\n",
       "      <th>3</th>\n",
       "      <td>1</td>\n",
       "      <td>1</td>\n",
       "      <td>0</td>\n",
       "      <td>0</td>\n",
       "      <td>1</td>\n",
       "    </tr>\n",
       "    <tr>\n",
       "      <th>4</th>\n",
       "      <td>0</td>\n",
       "      <td>0</td>\n",
       "      <td>0</td>\n",
       "      <td>0</td>\n",
       "      <td>0</td>\n",
       "    </tr>\n",
       "    <tr>\n",
       "      <th>...</th>\n",
       "      <td>...</td>\n",
       "      <td>...</td>\n",
       "      <td>...</td>\n",
       "      <td>...</td>\n",
       "      <td>...</td>\n",
       "    </tr>\n",
       "    <tr>\n",
       "      <th>51310</th>\n",
       "      <td>1</td>\n",
       "      <td>0</td>\n",
       "      <td>0</td>\n",
       "      <td>0</td>\n",
       "      <td>0</td>\n",
       "    </tr>\n",
       "    <tr>\n",
       "      <th>51311</th>\n",
       "      <td>1</td>\n",
       "      <td>1</td>\n",
       "      <td>0</td>\n",
       "      <td>0</td>\n",
       "      <td>1</td>\n",
       "    </tr>\n",
       "    <tr>\n",
       "      <th>51312</th>\n",
       "      <td>1</td>\n",
       "      <td>0</td>\n",
       "      <td>0</td>\n",
       "      <td>0</td>\n",
       "      <td>1</td>\n",
       "    </tr>\n",
       "    <tr>\n",
       "      <th>51313</th>\n",
       "      <td>0</td>\n",
       "      <td>1</td>\n",
       "      <td>1</td>\n",
       "      <td>0</td>\n",
       "      <td>0</td>\n",
       "    </tr>\n",
       "    <tr>\n",
       "      <th>51314</th>\n",
       "      <td>0</td>\n",
       "      <td>1</td>\n",
       "      <td>0</td>\n",
       "      <td>0</td>\n",
       "      <td>1</td>\n",
       "    </tr>\n",
       "  </tbody>\n",
       "</table>\n",
       "<p>51314 rows × 5 columns</p>\n",
       "</div>"
      ],
      "text/plain": [
       "       hasParkingSpace  hasBalcony  hasElevator  hasSecurity  hasStorageRoom\n",
       "0                    1           1            1            0               1\n",
       "1                    0           1            1            0               1\n",
       "2                    0           0            0            0               0\n",
       "3                    1           1            0            0               1\n",
       "4                    0           0            0            0               0\n",
       "...                ...         ...          ...          ...             ...\n",
       "51310                1           0            0            0               0\n",
       "51311                1           1            0            0               1\n",
       "51312                1           0            0            0               1\n",
       "51313                0           1            1            0               0\n",
       "51314                0           1            0            0               1\n",
       "\n",
       "[51314 rows x 5 columns]"
      ]
     },
     "execution_count": 34,
     "metadata": {},
     "output_type": "execute_result"
    }
   ],
   "source": [
    "data_ALL[columns_to_convert]"
   ]
  },
  {
   "cell_type": "code",
   "execution_count": 35,
   "id": "6e2dd097",
   "metadata": {
    "tags": []
   },
   "outputs": [
    {
     "name": "stdout",
     "output_type": "stream",
     "text": [
      "<class 'pandas.core.frame.DataFrame'>\n",
      "Int64Index: 51314 entries, 0 to 51314\n",
      "Data columns (total 33 columns):\n",
      " #   Column                 Non-Null Count  Dtype  \n",
      "---  ------                 --------------  -----  \n",
      " 0   squareMeters           51314 non-null  float64\n",
      " 1   rooms                  51314 non-null  float64\n",
      " 2   floor                  51314 non-null  float64\n",
      " 3   floorCount             51314 non-null  float64\n",
      " 4   buildYear              51314 non-null  float64\n",
      " 5   latitude               51314 non-null  float64\n",
      " 6   longitude              51314 non-null  float64\n",
      " 7   centreDistance         51314 non-null  float64\n",
      " 8   poiCount               51314 non-null  float64\n",
      " 9   hasParkingSpace        51314 non-null  int64  \n",
      " 10  hasBalcony             51314 non-null  int64  \n",
      " 11  hasElevator            51314 non-null  int64  \n",
      " 12  hasSecurity            51314 non-null  int64  \n",
      " 13  hasStorageRoom         51314 non-null  int64  \n",
      " 14  price                  51314 non-null  int64  \n",
      " 15  offerMonth             51314 non-null  int64  \n",
      " 16  ownership_condominium  51314 non-null  uint8  \n",
      " 17  ownership_cooperative  51314 non-null  uint8  \n",
      " 18  city_bialystok         51314 non-null  uint8  \n",
      " 19  city_bydgoszcz         51314 non-null  uint8  \n",
      " 20  city_czestochowa       51314 non-null  uint8  \n",
      " 21  city_gdansk            51314 non-null  uint8  \n",
      " 22  city_gdynia            51314 non-null  uint8  \n",
      " 23  city_katowice          51314 non-null  uint8  \n",
      " 24  city_krakow            51314 non-null  uint8  \n",
      " 25  city_lodz              51314 non-null  uint8  \n",
      " 26  city_lublin            51314 non-null  uint8  \n",
      " 27  city_poznan            51314 non-null  uint8  \n",
      " 28  city_radom             51314 non-null  uint8  \n",
      " 29  city_rzeszow           51314 non-null  uint8  \n",
      " 30  city_szczecin          51314 non-null  uint8  \n",
      " 31  city_warszawa          51314 non-null  uint8  \n",
      " 32  city_wroclaw           51314 non-null  uint8  \n",
      "dtypes: float64(9), int64(7), uint8(17)\n",
      "memory usage: 7.5 MB\n"
     ]
    }
   ],
   "source": [
    "data_ALL.info()"
   ]
  }
 ],
 "metadata": {
  "kernelspec": {
   "display_name": "Python 3 (ipykernel)",
   "language": "python",
   "name": "python3"
  },
  "language_info": {
   "codemirror_mode": {
    "name": "ipython",
    "version": 3
   },
   "file_extension": ".py",
   "mimetype": "text/x-python",
   "name": "python",
   "nbconvert_exporter": "python",
   "pygments_lexer": "ipython3",
   "version": "3.9.18"
  }
 },
 "nbformat": 4,
 "nbformat_minor": 5
}
